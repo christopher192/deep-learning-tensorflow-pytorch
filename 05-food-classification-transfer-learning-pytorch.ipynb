{
 "cells": [
  {
   "cell_type": "markdown",
   "id": "a047b564",
   "metadata": {},
   "source": [
    "## Transfer Learning with PyTorch"
   ]
  },
  {
   "cell_type": "code",
   "execution_count": 10,
   "id": "03ba76aa",
   "metadata": {},
   "outputs": [],
   "source": [
    "import matplotlib.pyplot as plt\n",
    "import torch\n",
    "import torchvision\n",
    "from torch import nn\n",
    "from torchvision import transforms\n",
    "from torchinfo import summary\n",
    "from pathlib import Path\n",
    "from module import setup_data, engine"
   ]
  },
  {
   "cell_type": "code",
   "execution_count": 11,
   "id": "b76ab591",
   "metadata": {},
   "outputs": [
    {
     "data": {
      "text/plain": [
       "'cpu'"
      ]
     },
     "execution_count": 11,
     "metadata": {},
     "output_type": "execute_result"
    }
   ],
   "source": [
    "device = \"cuda\" if torch.cuda.is_available() else \"cpu\"\n",
    "device"
   ]
  },
  {
   "cell_type": "markdown",
   "id": "8a4287c1",
   "metadata": {},
   "source": [
    "### 1. Data preparation"
   ]
  },
  {
   "cell_type": "code",
   "execution_count": 12,
   "id": "31549743",
   "metadata": {},
   "outputs": [],
   "source": [
    "data_path = Path(\"data/\")\n",
    "image_path = data_path / \"pizza_steak_sushi\"\n",
    "train_path = image_path / \"train\"\n",
    "test_path = image_path / \"test\""
   ]
  },
  {
   "cell_type": "code",
   "execution_count": 13,
   "id": "11d49911",
   "metadata": {},
   "outputs": [],
   "source": [
    "transform_image = transforms.Compose([\n",
    "    transforms.Resize((224, 224)),\n",
    "    transforms.ToTensor(),\n",
    "    transforms.Normalize(mean = [0.485, 0.456, 0.406], std = [0.229, 0.224, 0.225])\n",
    "])"
   ]
  },
  {
   "cell_type": "code",
   "execution_count": 17,
   "id": "05e26aaa",
   "metadata": {},
   "outputs": [
    {
     "data": {
      "text/plain": [
       "(<torch.utils.data.dataloader.DataLoader at 0x217d44698b0>,\n",
       " <torch.utils.data.dataloader.DataLoader at 0x217d4469f10>,\n",
       " ['pizza', 'steak', 'sushi'])"
      ]
     },
     "execution_count": 17,
     "metadata": {},
     "output_type": "execute_result"
    }
   ],
   "source": [
    "train_dataloader, test_dataloader, class_name = setup_data.create_dataloader(train_path = train_path, test_path = test_path,\n",
    "    transform =  transform_image, batch_size = 32)\n",
    "\n",
    "train_dataloader, test_dataloader, class_name"
   ]
  },
  {
   "cell_type": "code",
   "execution_count": null,
   "id": "c117aeb3",
   "metadata": {},
   "outputs": [],
   "source": []
  }
 ],
 "metadata": {
  "kernelspec": {
   "display_name": "Python 3 (ipykernel)",
   "language": "python",
   "name": "python3"
  },
  "language_info": {
   "codemirror_mode": {
    "name": "ipython",
    "version": 3
   },
   "file_extension": ".py",
   "mimetype": "text/x-python",
   "name": "python",
   "nbconvert_exporter": "python",
   "pygments_lexer": "ipython3",
   "version": "3.9.18"
  }
 },
 "nbformat": 4,
 "nbformat_minor": 5
}
