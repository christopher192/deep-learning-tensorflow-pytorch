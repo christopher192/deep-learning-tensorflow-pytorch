{
 "cells": [
  {
   "cell_type": "markdown",
   "id": "c8558bb5",
   "metadata": {},
   "source": [
    "## Natural Language Processing with TensorFlow"
   ]
  },
  {
   "cell_type": "code",
   "execution_count": 1,
   "id": "adfaa959",
   "metadata": {},
   "outputs": [],
   "source": [
    "import pandas as pd\n",
    "import random\n",
    "from sklearn.model_selection import train_test_split\n",
    "import tensorflow as tf\n",
    "from tensorflow.keras.layers import TextVectorization\n",
    "from helper_function import performance_metrics, compare_baseline_with_new_result, create_tensorboard_callback\n",
    "from tensorflow.keras import layers\n",
    "from sklearn.feature_extraction.text import TfidfVectorizer\n",
    "from sklearn.naive_bayes import MultinomialNB\n",
    "from sklearn.pipeline import Pipeline\n",
    "import tensorflow_hub as hub\n",
    "import numpy as np"
   ]
  },
  {
   "cell_type": "markdown",
   "id": "be8b8515",
   "metadata": {},
   "source": [
    "### 1. Data preparation"
   ]
  },
  {
   "cell_type": "code",
   "execution_count": 2,
   "id": "09f6b87a",
   "metadata": {},
   "outputs": [],
   "source": [
    "### Link folders\n",
    "\n",
    "train_df = pd.read_csv(\"data/nlp/train.csv\")\n",
    "test_df = pd.read_csv(\"data/nlp/test.csv\")"
   ]
  },
  {
   "cell_type": "code",
   "execution_count": 3,
   "id": "3e00eaef",
   "metadata": {},
   "outputs": [
    {
     "data": {
      "text/html": [
       "<div>\n",
       "<style scoped>\n",
       "    .dataframe tbody tr th:only-of-type {\n",
       "        vertical-align: middle;\n",
       "    }\n",
       "\n",
       "    .dataframe tbody tr th {\n",
       "        vertical-align: top;\n",
       "    }\n",
       "\n",
       "    .dataframe thead th {\n",
       "        text-align: right;\n",
       "    }\n",
       "</style>\n",
       "<table border=\"1\" class=\"dataframe\">\n",
       "  <thead>\n",
       "    <tr style=\"text-align: right;\">\n",
       "      <th></th>\n",
       "      <th>id</th>\n",
       "      <th>keyword</th>\n",
       "      <th>location</th>\n",
       "      <th>text</th>\n",
       "      <th>target</th>\n",
       "    </tr>\n",
       "  </thead>\n",
       "  <tbody>\n",
       "    <tr>\n",
       "      <th>2644</th>\n",
       "      <td>3796</td>\n",
       "      <td>destruction</td>\n",
       "      <td>NaN</td>\n",
       "      <td>So you have a new weapon that can cause un-ima...</td>\n",
       "      <td>1</td>\n",
       "    </tr>\n",
       "    <tr>\n",
       "      <th>2227</th>\n",
       "      <td>3185</td>\n",
       "      <td>deluge</td>\n",
       "      <td>NaN</td>\n",
       "      <td>The f$&amp;amp;@ing things I do for #GISHWHES Just...</td>\n",
       "      <td>0</td>\n",
       "    </tr>\n",
       "    <tr>\n",
       "      <th>5448</th>\n",
       "      <td>7769</td>\n",
       "      <td>police</td>\n",
       "      <td>UK</td>\n",
       "      <td>DT @georgegalloway: RT @Galloway4Mayor: ÛÏThe...</td>\n",
       "      <td>1</td>\n",
       "    </tr>\n",
       "    <tr>\n",
       "      <th>132</th>\n",
       "      <td>191</td>\n",
       "      <td>aftershock</td>\n",
       "      <td>NaN</td>\n",
       "      <td>Aftershock back to school kick off was great. ...</td>\n",
       "      <td>0</td>\n",
       "    </tr>\n",
       "    <tr>\n",
       "      <th>6845</th>\n",
       "      <td>9810</td>\n",
       "      <td>trauma</td>\n",
       "      <td>Montgomery County, MD</td>\n",
       "      <td>in response to trauma Children of Addicts deve...</td>\n",
       "      <td>0</td>\n",
       "    </tr>\n",
       "  </tbody>\n",
       "</table>\n",
       "</div>"
      ],
      "text/plain": [
       "        id      keyword               location  \\\n",
       "2644  3796  destruction                    NaN   \n",
       "2227  3185       deluge                    NaN   \n",
       "5448  7769       police                     UK   \n",
       "132    191   aftershock                    NaN   \n",
       "6845  9810       trauma  Montgomery County, MD   \n",
       "\n",
       "                                                   text  target  \n",
       "2644  So you have a new weapon that can cause un-ima...       1  \n",
       "2227  The f$&amp;@ing things I do for #GISHWHES Just...       0  \n",
       "5448  DT @georgegalloway: RT @Galloway4Mayor: ÛÏThe...       1  \n",
       "132   Aftershock back to school kick off was great. ...       0  \n",
       "6845  in response to trauma Children of Addicts deve...       0  "
      ]
     },
     "execution_count": 3,
     "metadata": {},
     "output_type": "execute_result"
    }
   ],
   "source": [
    "### Shuffle training dataframe\n",
    "\n",
    "train_df_shuffled = train_df.sample(frac = 1, random_state = 42)\n",
    "\n",
    "train_df_shuffled.head()"
   ]
  },
  {
   "cell_type": "code",
   "execution_count": 4,
   "id": "0fe34b00",
   "metadata": {},
   "outputs": [
    {
     "name": "stdout",
     "output_type": "stream",
     "text": [
      "Total training samples: 7613\n",
      "Total test samples: 3263\n",
      "Total samples: 10876\n"
     ]
    }
   ],
   "source": [
    "### How many total sample?\n",
    "\n",
    "print(f\"Total training samples: {len(train_df)}\")\n",
    "print(f\"Total test samples: {len(test_df)}\")\n",
    "print(f\"Total samples: {len(train_df) + len(test_df)}\")"
   ]
  },
  {
   "cell_type": "code",
   "execution_count": 5,
   "id": "83f7614c",
   "metadata": {},
   "outputs": [
    {
     "name": "stdout",
     "output_type": "stream",
     "text": [
      "Target: 1 (real disaster)\n",
      "Text:\n",
      "@rvfriedmann Hell is just a fraction of his belief of total annihilation destruction of USA @LodiSilverado @ritzy_jewels\n",
      "\n",
      "---\n",
      "\n",
      "Target: 1 (real disaster)\n",
      "Text:\n",
      "Islamic State group in Egypt threatens to kill Croat hostage http://t.co/VdgfXYX3bw\n",
      "\n",
      "---\n",
      "\n",
      "Target: 0 (not real disaster)\n",
      "Text:\n",
      "@HomeworldGym @thisisperidot D: What? That's a tragedy. You have a wonderful nose\n",
      "\n",
      "---\n",
      "\n",
      "Target: 0 (not real disaster)\n",
      "Text:\n",
      "Owner of Chicago-Area Gay Bar Admits to Arson Scheme http://t.co/UBFr1URAFc #LGBT | https://t.co/AlnV51d95x\n",
      "\n",
      "---\n",
      "\n",
      "Target: 1 (real disaster)\n",
      "Text:\n",
      "@ScriptetteSar @katiecool447 btw the 30th is actually next year casualty began 6th September 1986 so 2016 marks 30 years\n",
      "\n",
      "---\n",
      "\n"
     ]
    }
   ],
   "source": [
    "### Visualize random training samples\n",
    "\n",
    "random_index = random.randint(0, len(train_df) - 5)\n",
    "\n",
    "for row in train_df_shuffled[[\"text\", \"target\"]][random_index:random_index + 5].itertuples():\n",
    "    _, text, target = row\n",
    "    \n",
    "    print(f\"Target: {target}\", \"(real disaster)\" if target > 0 else \"(not real disaster)\")\n",
    "    print(f\"Text:\\n{text}\\n\")\n",
    "    print(\"---\\n\")"
   ]
  },
  {
   "cell_type": "code",
   "execution_count": 6,
   "id": "5fef15e1",
   "metadata": {},
   "outputs": [],
   "source": [
    "### Split training data into training and validation sets\n",
    "\n",
    "train_sentence, val_sentence, train_label, val_label = train_test_split(train_df_shuffled[\"text\"].to_numpy(),\n",
    "                                                                            train_df_shuffled[\"target\"].to_numpy(),\n",
    "                                                                            test_size = 0.1,\n",
    "                                                                            random_state = 42)"
   ]
  },
  {
   "cell_type": "code",
   "execution_count": 7,
   "id": "488c1e50",
   "metadata": {},
   "outputs": [
    {
     "name": "stdout",
     "output_type": "stream",
     "text": [
      "Length of train sentence: 6851, length of train label: 6851\n",
      "Length of val sentence: 762, length of val label: 762\n"
     ]
    }
   ],
   "source": [
    "### Check the length of validation & training\n",
    "\n",
    "print(f\"Length of train sentence: {len(train_sentence)}, length of train label: {len(train_label)}\")\n",
    "print(f\"Length of val sentence: {len(val_sentence)}, length of val label: {len(val_label)}\")"
   ]
  },
  {
   "cell_type": "code",
   "execution_count": 8,
   "id": "6d0c0280",
   "metadata": {},
   "outputs": [
    {
     "data": {
      "text/plain": [
       "(array(['@mogacola @zamtriossu i screamed after hitting tweet',\n",
       "        'Imagine getting flattened by Kurt Zouma',\n",
       "        '@Gurmeetramrahim #MSGDoing111WelfareWorks Green S welfare force ke appx 65000 members har time disaster victim ki help ke liye tyar hai....',\n",
       "        \"@shakjn @C7 @Magnums im shaking in fear he's gonna hack the planet\",\n",
       "        'Somehow find you and I collide http://t.co/Ee8RpOahPk',\n",
       "        '@EvaHanderek @MarleyKnysh great times until the bus driver held us hostage in the mall parking lot lmfao',\n",
       "        'destroy the free fandom honestly',\n",
       "        'Weapons stolen from National Guard Armory in New Albany still missing #Gunsense http://t.co/lKNU8902JE',\n",
       "        '@wfaaweather Pete when will the heat wave pass? Is it really going to be mid month? Frisco Boy Scouts have a canoe trip in Okla.',\n",
       "        'Patient-reported outcomes in long-term survivors of metastatic colorectal cancer - British Journal of Surgery http://t.co/5Yl4DC1Tqt'],\n",
       "       dtype=object),\n",
       " array([0, 0, 1, 0, 0, 1, 1, 0, 1, 1], dtype=int64))"
      ]
     },
     "execution_count": 8,
     "metadata": {},
     "output_type": "execute_result"
    }
   ],
   "source": [
    "# View first 10 training sentences and its label\n",
    "\n",
    "train_sentence[:10], train_label[:10]"
   ]
  },
  {
   "cell_type": "markdown",
   "id": "8a153924",
   "metadata": {},
   "source": [
    "### 2. Converting text into numbers\n",
    "Tokenization - word-level tokenization, character-level tokenization, sub-word tokenization <br>\n",
    "Embeddings - own/ custom embedding, pre-learned embedding "
   ]
  },
  {
   "cell_type": "code",
   "execution_count": 9,
   "id": "7840d1b5",
   "metadata": {},
   "outputs": [],
   "source": [
    "### Example of text vectorization\n",
    "\n",
    "text_vectorizer = TextVectorization(max_tokens = None,\n",
    "                                    standardize = \"lower_and_strip_punctuation\",\n",
    "                                    split = \"whitespace\",\n",
    "                                    ngrams = None,\n",
    "                                    output_mode = \"int\",\n",
    "                                    output_sequence_length = None)"
   ]
  },
  {
   "cell_type": "code",
   "execution_count": 10,
   "id": "316347b5",
   "metadata": {},
   "outputs": [
    {
     "name": "stdout",
     "output_type": "stream",
     "text": [
      "The average of tokens is 15\n"
     ]
    }
   ],
   "source": [
    "### What is average number of tokens (words)?\n",
    "\n",
    "print(f\"The average of tokens is {round(sum(len(i.split()) for i in train_sentence) / len(train_sentence))}\")"
   ]
  },
  {
   "cell_type": "code",
   "execution_count": 11,
   "id": "6b9aa4b1",
   "metadata": {},
   "outputs": [],
   "source": [
    "### Set text vectorization with custom variables\n",
    "### Set max number of words to have in our vocabulary\n",
    "### Max length for the sequences\n",
    "\n",
    "max_vocab_length = 10000\n",
    "max_length = 15\n",
    "\n",
    "text_vectorizer = TextVectorization(max_tokens = max_vocab_length,\n",
    "    output_mode = \"int\",\n",
    "    output_sequence_length = max_length)"
   ]
  },
  {
   "cell_type": "code",
   "execution_count": 12,
   "id": "2435e98d",
   "metadata": {},
   "outputs": [],
   "source": [
    "### Fit the text vectorizer to the training text\n",
    "\n",
    "text_vectorizer.adapt(train_sentence)"
   ]
  },
  {
   "cell_type": "code",
   "execution_count": 13,
   "id": "93a0d995",
   "metadata": {},
   "outputs": [
    {
     "data": {
      "text/plain": [
       "<tf.Tensor: shape=(1, 15), dtype=int64, numpy=\n",
       "array([[264,   3, 232,   4,  13, 698,   0,   0,   0,   0,   0,   0,   0,\n",
       "          0,   0]], dtype=int64)>"
      ]
     },
     "execution_count": 13,
     "metadata": {},
     "output_type": "execute_result"
    }
   ],
   "source": [
    "### Create sample sentence and tokenize it\n",
    "### Check the output\n",
    "\n",
    "sample_sentence = \"There's a flood in my street!\"\n",
    "\n",
    "text_vectorizer([sample_sentence])"
   ]
  },
  {
   "cell_type": "code",
   "execution_count": 14,
   "id": "73fda714",
   "metadata": {},
   "outputs": [
    {
     "name": "stdout",
     "output_type": "stream",
     "text": [
      "Original text:\n",
      "@colinhoffman29 I hope he does. And I hope you die in the explosion too      \n",
      "\n",
      "Vectorized version:\n"
     ]
    },
    {
     "data": {
      "text/plain": [
       "<tf.Tensor: shape=(1, 15), dtype=int64, numpy=\n",
       "array([[  1,   8, 237,  56, 350,   7,   8, 237,  12, 686,   4,   2, 303,\n",
       "        150,   0]], dtype=int64)>"
      ]
     },
     "execution_count": 14,
     "metadata": {},
     "output_type": "execute_result"
    }
   ],
   "source": [
    "### Choose random sentence from the training dataset then tokenize it\n",
    "\n",
    "random_sentence = random.choice(train_sentence)\n",
    "\n",
    "print(f\"Original text:\\n{random_sentence}\\\n",
    "      \\n\\nVectorized version:\")\n",
    "\n",
    "text_vectorizer([random_sentence])"
   ]
  },
  {
   "cell_type": "code",
   "execution_count": 15,
   "id": "8687918f",
   "metadata": {},
   "outputs": [
    {
     "name": "stdout",
     "output_type": "stream",
     "text": [
      "Number of words in vocab: 10000\n",
      "Top 5 most common words: ['', '[UNK]', 'the', 'a', 'in']\n",
      "Bottom 5 least common words: ['pages', 'paeds', 'pads', 'padres', 'paddytomlinson1']\n"
     ]
    }
   ],
   "source": [
    "### Get the unique words in the vocabulary\n",
    "\n",
    "words_in_vocab = text_vectorizer.get_vocabulary()\n",
    "top_5_words = words_in_vocab[:5]\n",
    "bottom_5_words = words_in_vocab[-5:]\n",
    "\n",
    "print(f\"Number of words in vocab: {len(words_in_vocab)}\")\n",
    "print(f\"Top 5 most common words: {top_5_words}\") \n",
    "print(f\"Bottom 5 least common words: {bottom_5_words}\")"
   ]
  },
  {
   "cell_type": "markdown",
   "id": "06403205",
   "metadata": {},
   "source": [
    "### 3. Creating embedding layer"
   ]
  },
  {
   "cell_type": "code",
   "execution_count": 16,
   "id": "fe200d06",
   "metadata": {},
   "outputs": [],
   "source": [
    "### Creating embedding layer\n",
    "\n",
    "embedding = layers.Embedding(input_dim = max_vocab_length,\n",
    "     output_dim = 128, embeddings_initializer = \"uniform\",\n",
    "     input_length = max_length, name = \"embedding_layer\") "
   ]
  },
  {
   "cell_type": "code",
   "execution_count": 17,
   "id": "ad98e3c8",
   "metadata": {},
   "outputs": [
    {
     "name": "stdout",
     "output_type": "stream",
     "text": [
      "Original text:\n",
      "@tinybaby @adultblackmale @mattytalks meltdown mwednesday      \n",
      "\n",
      "Embedded version:\n"
     ]
    },
    {
     "data": {
      "text/plain": [
       "<tf.Tensor: shape=(1, 15, 128), dtype=float32, numpy=\n",
       "array([[[ 0.00440657,  0.00523411, -0.00435299, ..., -0.02398802,\n",
       "          0.03245617,  0.02856833],\n",
       "        [-0.02351801,  0.01287203,  0.03435619, ..., -0.00885206,\n",
       "          0.00971067,  0.00636213],\n",
       "        [-0.02351801,  0.01287203,  0.03435619, ..., -0.00885206,\n",
       "          0.00971067,  0.00636213],\n",
       "        ...,\n",
       "        [ 0.01341608, -0.02222228,  0.00964662, ...,  0.01211598,\n",
       "         -0.02827525,  0.04905871],\n",
       "        [ 0.01341608, -0.02222228,  0.00964662, ...,  0.01211598,\n",
       "         -0.02827525,  0.04905871],\n",
       "        [ 0.01341608, -0.02222228,  0.00964662, ...,  0.01211598,\n",
       "         -0.02827525,  0.04905871]]], dtype=float32)>"
      ]
     },
     "execution_count": 17,
     "metadata": {},
     "output_type": "execute_result"
    }
   ],
   "source": [
    "### Get a random sentence from training set\n",
    "### Embed the random sentence\n",
    "\n",
    "random_sentence = random.choice(train_sentence)\n",
    "\n",
    "print(f\"Original text:\\n{random_sentence}\\\n",
    "      \\n\\nEmbedded version:\")\n",
    "\n",
    "sample_embed = embedding(text_vectorizer([random_sentence]))\n",
    "sample_embed"
   ]
  },
  {
   "cell_type": "code",
   "execution_count": 18,
   "id": "cf0cd265",
   "metadata": {},
   "outputs": [
    {
     "data": {
      "text/plain": [
       "<tf.Tensor: shape=(128,), dtype=float32, numpy=\n",
       "array([ 4.40657139e-03,  5.23411110e-03, -4.35298681e-03,  8.74658674e-03,\n",
       "       -6.54877350e-03,  4.89614941e-02,  2.42417790e-02, -1.28946304e-02,\n",
       "        4.34152819e-02, -2.42874771e-03, -9.23585892e-03,  9.94122028e-03,\n",
       "        3.91043723e-04, -1.49960741e-02, -4.91633900e-02, -9.07880068e-03,\n",
       "       -2.83157714e-02, -1.09135024e-02,  1.27847679e-02, -9.62977484e-03,\n",
       "        8.12743977e-03,  1.26508810e-02,  2.08575390e-02, -4.51222770e-02,\n",
       "        4.73243855e-02,  1.26352198e-02, -4.82302308e-02,  1.36161558e-02,\n",
       "       -1.87307596e-03,  1.43560655e-02, -3.97726074e-02, -3.56333144e-02,\n",
       "        4.48843502e-02,  8.92568752e-03,  5.24483994e-03, -1.95263866e-02,\n",
       "       -2.85325535e-02,  6.14620373e-03, -2.08108667e-02, -4.23427708e-02,\n",
       "       -5.89485094e-03,  1.56324767e-02,  1.46941096e-03,  4.50024866e-02,\n",
       "        3.01430263e-02, -2.20153928e-02, -4.35197465e-02,  1.57871358e-02,\n",
       "        4.10160534e-02, -7.28525966e-03,  7.95064121e-03,  3.39978077e-02,\n",
       "        1.04498044e-02, -2.72533894e-02, -2.25456804e-03, -2.93177366e-02,\n",
       "       -3.85192260e-02,  4.45705652e-03,  1.13021508e-02,  1.15998872e-02,\n",
       "        3.85874994e-02, -7.95185566e-04,  3.69913615e-02, -3.91919985e-02,\n",
       "       -1.69634447e-02,  4.46650498e-02,  4.20324095e-02,  5.05272299e-03,\n",
       "        2.14105844e-03, -1.17967725e-02, -4.61263172e-02,  4.16437127e-02,\n",
       "       -1.55288950e-02, -5.11682034e-03,  2.95433886e-02, -4.69429158e-02,\n",
       "       -1.84919611e-02, -3.39940675e-02, -4.96341251e-02,  3.16820182e-02,\n",
       "        1.91964619e-02,  3.57179157e-02, -4.44922112e-02, -2.09183581e-02,\n",
       "        2.66339630e-03, -4.92566116e-02, -1.96794160e-02, -1.71751380e-02,\n",
       "       -3.67450006e-02,  1.92515589e-02,  2.88545825e-02,  1.52769722e-02,\n",
       "       -1.73247941e-02,  1.17847323e-02,  3.93307209e-03, -3.22413445e-03,\n",
       "        3.62102501e-02, -8.02733749e-03, -1.76612139e-02, -1.15384683e-02,\n",
       "        3.70359086e-02,  4.34214137e-02,  6.93204254e-03, -4.89042178e-02,\n",
       "        2.09761970e-02, -3.43845040e-03, -2.59558093e-02, -4.47072089e-04,\n",
       "        1.77817680e-02, -6.48871064e-05,  1.34123601e-02,  3.14437039e-02,\n",
       "       -4.42214012e-02,  1.91073306e-02,  2.67602839e-02, -2.00965051e-02,\n",
       "       -4.86413389e-03,  2.29190849e-02, -3.49208824e-02,  1.90751217e-02,\n",
       "       -1.12460367e-02,  3.25486772e-02, -2.19572783e-02,  3.26692574e-02,\n",
       "       -4.93135117e-02, -2.39880215e-02,  3.24561708e-02,  2.85683312e-02],\n",
       "      dtype=float32)>"
      ]
     },
     "execution_count": 18,
     "metadata": {},
     "output_type": "execute_result"
    }
   ],
   "source": [
    "### Single token's embedding\n",
    "\n",
    "sample_embed[0][0]"
   ]
  },
  {
   "cell_type": "markdown",
   "id": "8182de5b",
   "metadata": {},
   "source": [
    "### 4. Model building"
   ]
  },
  {
   "cell_type": "markdown",
   "id": "ab0954f4",
   "metadata": {},
   "source": [
    "Model 1 - Naive Bayes (baseline)"
   ]
  },
  {
   "cell_type": "code",
   "execution_count": 19,
   "id": "7e060ffe",
   "metadata": {},
   "outputs": [],
   "source": [
    "### Initialize save directory location\n",
    "\n",
    "saved_dir_loc = \"model_log\""
   ]
  },
  {
   "cell_type": "code",
   "execution_count": 20,
   "id": "d3cd6afe",
   "metadata": {},
   "outputs": [
    {
     "data": {
      "text/html": [
       "<style>#sk-container-id-1 {color: black;}#sk-container-id-1 pre{padding: 0;}#sk-container-id-1 div.sk-toggleable {background-color: white;}#sk-container-id-1 label.sk-toggleable__label {cursor: pointer;display: block;width: 100%;margin-bottom: 0;padding: 0.3em;box-sizing: border-box;text-align: center;}#sk-container-id-1 label.sk-toggleable__label-arrow:before {content: \"▸\";float: left;margin-right: 0.25em;color: #696969;}#sk-container-id-1 label.sk-toggleable__label-arrow:hover:before {color: black;}#sk-container-id-1 div.sk-estimator:hover label.sk-toggleable__label-arrow:before {color: black;}#sk-container-id-1 div.sk-toggleable__content {max-height: 0;max-width: 0;overflow: hidden;text-align: left;background-color: #f0f8ff;}#sk-container-id-1 div.sk-toggleable__content pre {margin: 0.2em;color: black;border-radius: 0.25em;background-color: #f0f8ff;}#sk-container-id-1 input.sk-toggleable__control:checked~div.sk-toggleable__content {max-height: 200px;max-width: 100%;overflow: auto;}#sk-container-id-1 input.sk-toggleable__control:checked~label.sk-toggleable__label-arrow:before {content: \"▾\";}#sk-container-id-1 div.sk-estimator input.sk-toggleable__control:checked~label.sk-toggleable__label {background-color: #d4ebff;}#sk-container-id-1 div.sk-label input.sk-toggleable__control:checked~label.sk-toggleable__label {background-color: #d4ebff;}#sk-container-id-1 input.sk-hidden--visually {border: 0;clip: rect(1px 1px 1px 1px);clip: rect(1px, 1px, 1px, 1px);height: 1px;margin: -1px;overflow: hidden;padding: 0;position: absolute;width: 1px;}#sk-container-id-1 div.sk-estimator {font-family: monospace;background-color: #f0f8ff;border: 1px dotted black;border-radius: 0.25em;box-sizing: border-box;margin-bottom: 0.5em;}#sk-container-id-1 div.sk-estimator:hover {background-color: #d4ebff;}#sk-container-id-1 div.sk-parallel-item::after {content: \"\";width: 100%;border-bottom: 1px solid gray;flex-grow: 1;}#sk-container-id-1 div.sk-label:hover label.sk-toggleable__label {background-color: #d4ebff;}#sk-container-id-1 div.sk-serial::before {content: \"\";position: absolute;border-left: 1px solid gray;box-sizing: border-box;top: 0;bottom: 0;left: 50%;z-index: 0;}#sk-container-id-1 div.sk-serial {display: flex;flex-direction: column;align-items: center;background-color: white;padding-right: 0.2em;padding-left: 0.2em;position: relative;}#sk-container-id-1 div.sk-item {position: relative;z-index: 1;}#sk-container-id-1 div.sk-parallel {display: flex;align-items: stretch;justify-content: center;background-color: white;position: relative;}#sk-container-id-1 div.sk-item::before, #sk-container-id-1 div.sk-parallel-item::before {content: \"\";position: absolute;border-left: 1px solid gray;box-sizing: border-box;top: 0;bottom: 0;left: 50%;z-index: -1;}#sk-container-id-1 div.sk-parallel-item {display: flex;flex-direction: column;z-index: 1;position: relative;background-color: white;}#sk-container-id-1 div.sk-parallel-item:first-child::after {align-self: flex-end;width: 50%;}#sk-container-id-1 div.sk-parallel-item:last-child::after {align-self: flex-start;width: 50%;}#sk-container-id-1 div.sk-parallel-item:only-child::after {width: 0;}#sk-container-id-1 div.sk-dashed-wrapped {border: 1px dashed gray;margin: 0 0.4em 0.5em 0.4em;box-sizing: border-box;padding-bottom: 0.4em;background-color: white;}#sk-container-id-1 div.sk-label label {font-family: monospace;font-weight: bold;display: inline-block;line-height: 1.2em;}#sk-container-id-1 div.sk-label-container {text-align: center;}#sk-container-id-1 div.sk-container {/* jupyter's `normalize.less` sets `[hidden] { display: none; }` but bootstrap.min.css set `[hidden] { display: none !important; }` so we also need the `!important` here to be able to override the default hidden behavior on the sphinx rendered scikit-learn.org. See: https://github.com/scikit-learn/scikit-learn/issues/21755 */display: inline-block !important;position: relative;}#sk-container-id-1 div.sk-text-repr-fallback {display: none;}</style><div id=\"sk-container-id-1\" class=\"sk-top-container\"><div class=\"sk-text-repr-fallback\"><pre>Pipeline(steps=[(&#x27;tfidf&#x27;, TfidfVectorizer()), (&#x27;clf&#x27;, MultinomialNB())])</pre><b>In a Jupyter environment, please rerun this cell to show the HTML representation or trust the notebook. <br />On GitHub, the HTML representation is unable to render, please try loading this page with nbviewer.org.</b></div><div class=\"sk-container\" hidden><div class=\"sk-item sk-dashed-wrapped\"><div class=\"sk-label-container\"><div class=\"sk-label sk-toggleable\"><input class=\"sk-toggleable__control sk-hidden--visually\" id=\"sk-estimator-id-1\" type=\"checkbox\" ><label for=\"sk-estimator-id-1\" class=\"sk-toggleable__label sk-toggleable__label-arrow\">Pipeline</label><div class=\"sk-toggleable__content\"><pre>Pipeline(steps=[(&#x27;tfidf&#x27;, TfidfVectorizer()), (&#x27;clf&#x27;, MultinomialNB())])</pre></div></div></div><div class=\"sk-serial\"><div class=\"sk-item\"><div class=\"sk-estimator sk-toggleable\"><input class=\"sk-toggleable__control sk-hidden--visually\" id=\"sk-estimator-id-2\" type=\"checkbox\" ><label for=\"sk-estimator-id-2\" class=\"sk-toggleable__label sk-toggleable__label-arrow\">TfidfVectorizer</label><div class=\"sk-toggleable__content\"><pre>TfidfVectorizer()</pre></div></div></div><div class=\"sk-item\"><div class=\"sk-estimator sk-toggleable\"><input class=\"sk-toggleable__control sk-hidden--visually\" id=\"sk-estimator-id-3\" type=\"checkbox\" ><label for=\"sk-estimator-id-3\" class=\"sk-toggleable__label sk-toggleable__label-arrow\">MultinomialNB</label><div class=\"sk-toggleable__content\"><pre>MultinomialNB()</pre></div></div></div></div></div></div></div>"
      ],
      "text/plain": [
       "Pipeline(steps=[('tfidf', TfidfVectorizer()), ('clf', MultinomialNB())])"
      ]
     },
     "execution_count": 20,
     "metadata": {},
     "output_type": "execute_result"
    }
   ],
   "source": [
    "### Convert words to numbers using tfidf then model the text\n",
    "\n",
    "first_model = Pipeline([\n",
    "    (\"tfidf\", TfidfVectorizer()),\n",
    "    (\"clf\", MultinomialNB())\n",
    "])\n",
    "\n",
    "first_model.fit(train_sentence, train_label)"
   ]
  },
  {
   "cell_type": "code",
   "execution_count": 21,
   "id": "a3f4b881",
   "metadata": {},
   "outputs": [
    {
     "data": {
      "text/plain": [
       "{'accuracy': 79.26509186351706,\n",
       " 'precision': 0.8111390004213173,\n",
       " 'recall': 0.7926509186351706,\n",
       " 'f1': 0.7862189758049549}"
      ]
     },
     "execution_count": 21,
     "metadata": {},
     "output_type": "execute_result"
    }
   ],
   "source": [
    "### Check performance metrics\n",
    "\n",
    "baseline_pred = first_model.predict(val_sentence)\n",
    "\n",
    "baseline_result = performance_metrics(y_true = val_label, y_pred = baseline_pred)\n",
    "baseline_result"
   ]
  },
  {
   "cell_type": "markdown",
   "id": "522fffb0",
   "metadata": {},
   "source": [
    "Model 2 - Simple dense model"
   ]
  },
  {
   "cell_type": "code",
   "execution_count": 22,
   "id": "ce5baa81",
   "metadata": {},
   "outputs": [
    {
     "name": "stdout",
     "output_type": "stream",
     "text": [
      "Model: \"model\"\n",
      "_________________________________________________________________\n",
      " Layer (type)                Output Shape              Param #   \n",
      "=================================================================\n",
      " input_1 (InputLayer)        [(None, 1)]               0         \n",
      "                                                                 \n",
      " text_vectorization_1 (Text  (None, 15)                0         \n",
      " Vectorization)                                                  \n",
      "                                                                 \n",
      " embedding_layer (Embedding  (None, 15, 128)           1280000   \n",
      " )                                                               \n",
      "                                                                 \n",
      " global_average_pooling1d (  (None, 128)               0         \n",
      " GlobalAveragePooling1D)                                         \n",
      "                                                                 \n",
      " dense (Dense)               (None, 1)                 129       \n",
      "                                                                 \n",
      "=================================================================\n",
      "Total params: 1280129 (4.88 MB)\n",
      "Trainable params: 1280129 (4.88 MB)\n",
      "Non-trainable params: 0 (0.00 Byte)\n",
      "_________________________________________________________________\n"
     ]
    }
   ],
   "source": [
    "### Create one dimensional strings inputs \n",
    "input_layer = layers.Input(shape = (1,), dtype = \"string\")\n",
    "\n",
    "### Turn the input text into numbers\n",
    "x = text_vectorizer(input_layer)\n",
    "\n",
    "### Embedding the numerized numbers\n",
    "x = embedding(x)\n",
    "\n",
    "### Lower the dimensionality of the embedding\n",
    "x = layers.GlobalAveragePooling1D()(x)\n",
    "\n",
    "### Create the output layer for binary outputs \n",
    "output_layer = layers.Dense(1, activation = \"sigmoid\")(x)\n",
    "\n",
    "### Construct the model\n",
    "second_model = tf.keras.Model(input_layer, output_layer)\n",
    "\n",
    "second_model.compile(loss = \"binary_crossentropy\", optimizer = tf.keras.optimizers.Adam(),\n",
    "    metrics = [\"accuracy\"])\n",
    "\n",
    "second_model.summary()"
   ]
  },
  {
   "cell_type": "code",
   "execution_count": 23,
   "id": "53d56536",
   "metadata": {},
   "outputs": [
    {
     "name": "stdout",
     "output_type": "stream",
     "text": [
      "Saving TensorBoard log files to: model_log/simple_dense_model/20230924-195411\n",
      "Epoch 1/5\n",
      "215/215 [==============================] - 6s 24ms/step - loss: 0.6110 - accuracy: 0.6913 - val_loss: 0.5345 - val_accuracy: 0.7572\n",
      "Epoch 2/5\n",
      "215/215 [==============================] - 5s 22ms/step - loss: 0.4397 - accuracy: 0.8180 - val_loss: 0.4725 - val_accuracy: 0.7861\n",
      "Epoch 3/5\n",
      "215/215 [==============================] - 5s 22ms/step - loss: 0.3453 - accuracy: 0.8625 - val_loss: 0.4612 - val_accuracy: 0.7900\n",
      "Epoch 4/5\n",
      "215/215 [==============================] - 5s 24ms/step - loss: 0.2841 - accuracy: 0.8895 - val_loss: 0.4660 - val_accuracy: 0.7808\n",
      "Epoch 5/5\n",
      "215/215 [==============================] - 5s 23ms/step - loss: 0.2361 - accuracy: 0.9129 - val_loss: 0.4814 - val_accuracy: 0.7822\n"
     ]
    }
   ],
   "source": [
    "second_model_history = second_model.fit(train_sentence, train_label, epochs = 5,\n",
    "    validation_data = (val_sentence, val_label), \n",
    "    callbacks = [create_tensorboard_callback(dir_name = saved_dir_loc , experiment_name = \"simple_dense_model\")])"
   ]
  },
  {
   "cell_type": "code",
   "execution_count": 24,
   "id": "0143bb28",
   "metadata": {},
   "outputs": [
    {
     "name": "stdout",
     "output_type": "stream",
     "text": [
      "24/24 [==============================] - 0s 2ms/step - loss: 0.4814 - accuracy: 0.7822\n"
     ]
    },
    {
     "data": {
      "text/plain": [
       "[0.48142892122268677, 0.7821522355079651]"
      ]
     },
     "execution_count": 24,
     "metadata": {},
     "output_type": "execute_result"
    }
   ],
   "source": [
    "# Check validation results\n",
    "\n",
    "second_model.evaluate(val_sentence, val_label)"
   ]
  },
  {
   "cell_type": "code",
   "execution_count": 25,
   "id": "e0f39266",
   "metadata": {},
   "outputs": [
    {
     "data": {
      "text/plain": [
       "[<tf.Variable 'embedding_layer/embeddings:0' shape=(10000, 128) dtype=float32, numpy=\n",
       " array([[ 0.02624034, -0.03572853,  0.02271514, ...,  0.0178381 ,\n",
       "         -0.04205781,  0.03851673],\n",
       "        [-0.02205195,  0.00865531,  0.03804132, ..., -0.02127992,\n",
       "          0.00544994,  0.00444458],\n",
       "        [ 0.04785395, -0.02329456, -0.02612487, ...,  0.02820995,\n",
       "          0.02823086, -0.06191072],\n",
       "        ...,\n",
       "        [-0.035258  , -0.00320768,  0.0177809 , ..., -0.01568137,\n",
       "          0.02295684,  0.02883089],\n",
       "        [ 0.03953578,  0.00304305,  0.03512187, ...,  0.03237578,\n",
       "         -0.07907213, -0.04428903],\n",
       "        [ 0.09569402, -0.10845077,  0.02023597, ...,  0.03120608,\n",
       "         -0.04857872, -0.06609632]], dtype=float32)>]"
      ]
     },
     "execution_count": 25,
     "metadata": {},
     "output_type": "execute_result"
    }
   ],
   "source": [
    "### Check embedding weights\n",
    "\n",
    "embedding.weights"
   ]
  },
  {
   "cell_type": "code",
   "execution_count": 26,
   "id": "e70b260d",
   "metadata": {},
   "outputs": [
    {
     "data": {
      "text/plain": [
       "(10000, 128)"
      ]
     },
     "execution_count": 26,
     "metadata": {},
     "output_type": "execute_result"
    }
   ],
   "source": [
    "### Other way to check embedding weights\n",
    "\n",
    "embed_weights = second_model.get_layer(\"embedding_layer\").get_weights()[0]\n",
    "\n",
    "embed_weights.shape"
   ]
  },
  {
   "cell_type": "code",
   "execution_count": 27,
   "id": "61b91198",
   "metadata": {},
   "outputs": [],
   "source": [
    "### View accuracy and loss for training and validation\n",
    "\n",
    "# !tensorboard dev upload --logdir ./model_log \\\n",
    "#   --name \"Simple dense model\" \\\n",
    "#   --description \"Simple dense model with an embedding layer\" \\\n",
    "#   --one_shot"
   ]
  },
  {
   "cell_type": "code",
   "execution_count": 28,
   "id": "3a25a9c0",
   "metadata": {},
   "outputs": [],
   "source": [
    "### Delete experiment based on its id\n",
    "\n",
    "# !tensorboard dev delete --experiment_id EXPERIMENT_ID_TO_DELETE"
   ]
  },
  {
   "cell_type": "code",
   "execution_count": 29,
   "id": "669e98a1",
   "metadata": {},
   "outputs": [
    {
     "name": "stdout",
     "output_type": "stream",
     "text": [
      "24/24 [==============================] - 0s 2ms/step\n"
     ]
    },
    {
     "data": {
      "text/plain": [
       "{'accuracy': 78.21522309711287,\n",
       " 'precision': 0.7864332425219001,\n",
       " 'recall': 0.7821522309711286,\n",
       " 'f1': 0.7792361147360404}"
      ]
     },
     "execution_count": 29,
     "metadata": {},
     "output_type": "execute_result"
    }
   ],
   "source": [
    "second_model_pred_prob = second_model.predict(val_sentence)\n",
    "\n",
    "### Turn into single-dimension tensor of float\n",
    "second_model_pred = tf.squeeze(tf.round(second_model_pred_prob))\n",
    "\n",
    "second_model_result = performance_metrics(y_true = val_label, y_pred = second_model_pred)\n",
    "\n",
    "second_model_result"
   ]
  },
  {
   "cell_type": "code",
   "execution_count": 30,
   "id": "68ef5615",
   "metadata": {},
   "outputs": [
    {
     "name": "stdout",
     "output_type": "stream",
     "text": [
      "Baseline accuracy: 79.27, New accuracy: 78.22, Difference: -1.0498687664041881\n",
      "Baseline precision: 0.81, New precision: 0.79, Difference: -0.024705757899417202\n",
      "Baseline recall: 0.79, New recall: 0.78, Difference: -0.010498687664041939\n",
      "Baseline f1: 0.79, New f1: 0.78, Difference: -0.006982861068914548\n"
     ]
    }
   ],
   "source": [
    "compare_baseline_with_new_result(baseline_result = baseline_result, new_result = second_model_result)"
   ]
  },
  {
   "cell_type": "markdown",
   "id": "21a64bcc",
   "metadata": {},
   "source": [
    "Model 3 - LSTM"
   ]
  },
  {
   "cell_type": "code",
   "execution_count": 31,
   "id": "cabe5aba",
   "metadata": {},
   "outputs": [
    {
     "name": "stdout",
     "output_type": "stream",
     "text": [
      "Model: \"third_model_lstm\"\n",
      "_________________________________________________________________\n",
      " Layer (type)                Output Shape              Param #   \n",
      "=================================================================\n",
      " input_2 (InputLayer)        [(None, 1)]               0         \n",
      "                                                                 \n",
      " text_vectorization_1 (Text  (None, 15)                0         \n",
      " Vectorization)                                                  \n",
      "                                                                 \n",
      " third_embedding_layer (Emb  (None, 15, 128)           1280000   \n",
      " edding)                                                         \n",
      "                                                                 \n",
      " lstm (LSTM)                 (None, 64)                49408     \n",
      "                                                                 \n",
      " dense_1 (Dense)             (None, 1)                 65        \n",
      "                                                                 \n",
      "=================================================================\n",
      "Total params: 1329473 (5.07 MB)\n",
      "Trainable params: 1329473 (5.07 MB)\n",
      "Non-trainable params: 0 (0.00 Byte)\n",
      "_________________________________________________________________\n"
     ]
    }
   ],
   "source": [
    "third_model_embedding = layers.Embedding(input_dim = max_vocab_length, output_dim = 128,\n",
    "    embeddings_initializer = \"uniform\", input_length = max_length, name = \"third_embedding_layer\")\n",
    "\n",
    "input_layer = layers.Input(shape = (1,), dtype = \"string\")\n",
    "\n",
    "x = text_vectorizer(input_layer)\n",
    "x = third_model_embedding(x)\n",
    "# print(x.shape)\n",
    "x = layers.LSTM(64)(x)\n",
    "# print(x.shape)\n",
    "\n",
    "output_layer = layers.Dense(1, activation = \"sigmoid\")(x)\n",
    "\n",
    "third_model = tf.keras.Model(input_layer, output_layer, name = \"third_model_lstm\")\n",
    "\n",
    "third_model.compile(loss = \"binary_crossentropy\", optimizer = tf.keras.optimizers.Adam(),\n",
    "    metrics = [\"accuracy\"])\n",
    "\n",
    "third_model.summary()"
   ]
  },
  {
   "cell_type": "code",
   "execution_count": 32,
   "id": "a81fdc79",
   "metadata": {},
   "outputs": [
    {
     "name": "stdout",
     "output_type": "stream",
     "text": [
      "Saving TensorBoard log files to: model_log/lstm/20230924-195437\n",
      "Epoch 1/5\n",
      "215/215 [==============================] - 7s 24ms/step - loss: 0.5149 - accuracy: 0.7381 - val_loss: 0.4953 - val_accuracy: 0.7677\n",
      "Epoch 2/5\n",
      "215/215 [==============================] - 6s 30ms/step - loss: 0.3175 - accuracy: 0.8701 - val_loss: 0.4743 - val_accuracy: 0.7769\n",
      "Epoch 3/5\n",
      "215/215 [==============================] - 7s 30ms/step - loss: 0.2162 - accuracy: 0.9212 - val_loss: 0.5213 - val_accuracy: 0.7743\n",
      "Epoch 4/5\n",
      "215/215 [==============================] - 6s 29ms/step - loss: 0.1504 - accuracy: 0.9456 - val_loss: 0.7227 - val_accuracy: 0.7598\n",
      "Epoch 5/5\n",
      "215/215 [==============================] - 6s 30ms/step - loss: 0.1043 - accuracy: 0.9615 - val_loss: 0.8891 - val_accuracy: 0.7612\n"
     ]
    }
   ],
   "source": [
    "third_model_history = third_model.fit(train_sentence, train_label, epochs = 5, \n",
    "    validation_data = (val_sentence, val_label), callbacks = [create_tensorboard_callback(saved_dir_loc, \"lstm\")])"
   ]
  },
  {
   "cell_type": "code",
   "execution_count": 33,
   "id": "5beb3a93",
   "metadata": {},
   "outputs": [],
   "source": [
    "### View accuracy and loss for training and validation\n",
    "\n",
    "# !tensorboard dev upload --logdir ./model_log \\\n",
    "#   --name \"LSTM model\" \\\n",
    "#   --description \"LSTM model with an embedding layer\" \\\n",
    "#   --one_shot"
   ]
  },
  {
   "cell_type": "code",
   "execution_count": 34,
   "id": "4935e3b5",
   "metadata": {},
   "outputs": [],
   "source": [
    "### Delete experiment based on its id\n",
    "\n",
    "# !tensorboard dev delete --experiment_id EXPERIMENT_ID_TO_DELETE"
   ]
  },
  {
   "cell_type": "code",
   "execution_count": 35,
   "id": "fce5ac14",
   "metadata": {},
   "outputs": [
    {
     "name": "stdout",
     "output_type": "stream",
     "text": [
      "24/24 [==============================] - 0s 4ms/step\n"
     ]
    },
    {
     "data": {
      "text/plain": [
       "{'accuracy': 76.11548556430446,\n",
       " 'precision': 0.7608318753855237,\n",
       " 'recall': 0.7611548556430446,\n",
       " 'f1': 0.7609090208165951}"
      ]
     },
     "execution_count": 35,
     "metadata": {},
     "output_type": "execute_result"
    }
   ],
   "source": [
    "third_model_pred_prob = third_model.predict(val_sentence)\n",
    "third_model_pred = tf.squeeze(tf.round(third_model_pred_prob))\n",
    "\n",
    "third_model_result = performance_metrics(y_true = val_label, y_pred = third_model_pred)\n",
    "third_model_result"
   ]
  },
  {
   "cell_type": "code",
   "execution_count": 36,
   "id": "c13d57f9",
   "metadata": {},
   "outputs": [
    {
     "name": "stdout",
     "output_type": "stream",
     "text": [
      "Baseline accuracy: 79.27, New accuracy: 76.12, Difference: -3.149606299212593\n",
      "Baseline precision: 0.81, New precision: 0.76, Difference: -0.0503071250357936\n",
      "Baseline recall: 0.79, New recall: 0.76, Difference: -0.03149606299212593\n",
      "Baseline f1: 0.79, New f1: 0.76, Difference: -0.025309954988359862\n"
     ]
    }
   ],
   "source": [
    "compare_baseline_with_new_result(baseline_result, third_model_result)"
   ]
  },
  {
   "cell_type": "markdown",
   "id": "71a0d4a2",
   "metadata": {},
   "source": [
    "Model 4 - Bidirectonal RNN"
   ]
  },
  {
   "cell_type": "code",
   "execution_count": 37,
   "id": "1eeb2b89",
   "metadata": {},
   "outputs": [
    {
     "name": "stdout",
     "output_type": "stream",
     "text": [
      "Model: \"forth_model_bidirectional_rnn\"\n",
      "_________________________________________________________________\n",
      " Layer (type)                Output Shape              Param #   \n",
      "=================================================================\n",
      " input_3 (InputLayer)        [(None, 1)]               0         \n",
      "                                                                 \n",
      " text_vectorization_1 (Text  (None, 15)                0         \n",
      " Vectorization)                                                  \n",
      "                                                                 \n",
      " forth_embedding (Embedding  (None, 15, 128)           1280000   \n",
      " )                                                               \n",
      "                                                                 \n",
      " bidirectional (Bidirection  (None, 128)               98816     \n",
      " al)                                                             \n",
      "                                                                 \n",
      " dense_2 (Dense)             (None, 1)                 129       \n",
      "                                                                 \n",
      "=================================================================\n",
      "Total params: 1378945 (5.26 MB)\n",
      "Trainable params: 1378945 (5.26 MB)\n",
      "Non-trainable params: 0 (0.00 Byte)\n",
      "_________________________________________________________________\n"
     ]
    }
   ],
   "source": [
    "forth_model_embedding = layers.Embedding(input_dim = max_vocab_length, output_dim = 128,\n",
    "    embeddings_initializer = \"uniform\", input_length = max_length, name = \"forth_embedding\")\n",
    "\n",
    "input_layer = layers.Input(shape = (1,), dtype = \"string\")\n",
    "\n",
    "x = text_vectorizer(input_layer)\n",
    "x = forth_model_embedding(x)\n",
    "x = layers.Bidirectional(layers.LSTM(64))(x)\n",
    "\n",
    "output_layer = layers.Dense(1, activation = \"sigmoid\")(x)\n",
    "\n",
    "forth_model = tf.keras.Model(input_layer, output_layer, name = \"forth_model_bidirectional_rnn\")\n",
    "\n",
    "forth_model.compile(loss = \"binary_crossentropy\", optimizer = tf.keras.optimizers.Adam(),\n",
    "    metrics = [\"accuracy\"])\n",
    "\n",
    "forth_model.summary()"
   ]
  },
  {
   "cell_type": "code",
   "execution_count": 38,
   "id": "374f8f84",
   "metadata": {},
   "outputs": [
    {
     "name": "stdout",
     "output_type": "stream",
     "text": [
      "Saving TensorBoard log files to: model_log/bidirectional_rnn/20230924-195511\n",
      "Epoch 1/5\n",
      "215/215 [==============================] - 9s 26ms/step - loss: 0.5125 - accuracy: 0.7491 - val_loss: 0.4699 - val_accuracy: 0.7848\n",
      "Epoch 2/5\n",
      "215/215 [==============================] - 5s 24ms/step - loss: 0.3167 - accuracy: 0.8669 - val_loss: 0.4601 - val_accuracy: 0.7795\n",
      "Epoch 3/5\n",
      "215/215 [==============================] - 5s 24ms/step - loss: 0.2069 - accuracy: 0.9247 - val_loss: 0.5134 - val_accuracy: 0.7730\n",
      "Epoch 4/5\n",
      "215/215 [==============================] - 5s 25ms/step - loss: 0.1435 - accuracy: 0.9510 - val_loss: 0.5807 - val_accuracy: 0.7677\n",
      "Epoch 5/5\n",
      "215/215 [==============================] - 6s 26ms/step - loss: 0.0997 - accuracy: 0.9657 - val_loss: 0.8600 - val_accuracy: 0.7507\n"
     ]
    }
   ],
   "source": [
    "forth_model_history = forth_model.fit(train_sentence, train_label,\n",
    "    epochs = 5, validation_data = (val_sentence, val_label), \n",
    "    callbacks = [create_tensorboard_callback(saved_dir_loc, \"bidirectional_rnn\")])"
   ]
  },
  {
   "cell_type": "code",
   "execution_count": 39,
   "id": "91198b41",
   "metadata": {},
   "outputs": [
    {
     "name": "stdout",
     "output_type": "stream",
     "text": [
      "24/24 [==============================] - 1s 4ms/step\n"
     ]
    },
    {
     "data": {
      "text/plain": [
       "{'accuracy': 75.06561679790026,\n",
       " 'precision': 0.7508600847970927,\n",
       " 'recall': 0.7506561679790026,\n",
       " 'f1': 0.7490505448182613}"
      ]
     },
     "execution_count": 39,
     "metadata": {},
     "output_type": "execute_result"
    }
   ],
   "source": [
    "forth_model_pred_prob = forth_model.predict(val_sentence)\n",
    "forth_model_pred = tf.squeeze(tf.round(forth_model_pred_prob))\n",
    "\n",
    "forth_model_result = performance_metrics(val_label, forth_model_pred)\n",
    "forth_model_result"
   ]
  },
  {
   "cell_type": "code",
   "execution_count": 40,
   "id": "8ee0fd65",
   "metadata": {},
   "outputs": [
    {
     "name": "stdout",
     "output_type": "stream",
     "text": [
      "Baseline accuracy: 79.27, New accuracy: 75.07, Difference: -4.199475065616795\n",
      "Baseline precision: 0.81, New precision: 0.75, Difference: -0.060278915624224605\n",
      "Baseline recall: 0.79, New recall: 0.75, Difference: -0.04199475065616798\n",
      "Baseline f1: 0.79, New f1: 0.75, Difference: -0.037168430986693646\n"
     ]
    }
   ],
   "source": [
    "compare_baseline_with_new_result(baseline_result, forth_model_result)"
   ]
  },
  {
   "cell_type": "markdown",
   "id": "4ba4fd2b",
   "metadata": {},
   "source": [
    "Model 5 - GRU"
   ]
  },
  {
   "cell_type": "code",
   "execution_count": 41,
   "id": "05fdaf9c",
   "metadata": {},
   "outputs": [
    {
     "name": "stdout",
     "output_type": "stream",
     "text": [
      "Model: \"fifth_model_gru\"\n",
      "_________________________________________________________________\n",
      " Layer (type)                Output Shape              Param #   \n",
      "=================================================================\n",
      " input_4 (InputLayer)        [(None, 1)]               0         \n",
      "                                                                 \n",
      " text_vectorization_1 (Text  (None, 15)                0         \n",
      " Vectorization)                                                  \n",
      "                                                                 \n",
      " fifth_embedding (Embedding  (None, 15, 128)           1280000   \n",
      " )                                                               \n",
      "                                                                 \n",
      " gru (GRU)                   (None, 64)                37248     \n",
      "                                                                 \n",
      " dense_3 (Dense)             (None, 1)                 65        \n",
      "                                                                 \n",
      "=================================================================\n",
      "Total params: 1317313 (5.03 MB)\n",
      "Trainable params: 1317313 (5.03 MB)\n",
      "Non-trainable params: 0 (0.00 Byte)\n",
      "_________________________________________________________________\n"
     ]
    }
   ],
   "source": [
    "fifth_embedding = layers.Embedding(input_dim = max_vocab_length, output_dim = 128,\n",
    "    embeddings_initializer = \"uniform\", input_length = max_length, name = \"fifth_embedding\")\n",
    "\n",
    "input_layer = layers.Input(shape = (1,), dtype = \"string\")\n",
    "\n",
    "x = text_vectorizer(input_layer)\n",
    "x = fifth_embedding(x)\n",
    "x = layers.GRU(64)(x)\n",
    "\n",
    "output_layer = layers.Dense(1, activation = \"sigmoid\")(x)\n",
    "\n",
    "fifth_model = tf.keras.Model(input_layer, output_layer, name = \"fifth_model_gru\")\n",
    "\n",
    "fifth_model.compile(loss = \"binary_crossentropy\", optimizer = tf.keras.optimizers.Adam(),\n",
    "    metrics = [\"accuracy\"])\n",
    "\n",
    "fifth_model.summary()"
   ]
  },
  {
   "cell_type": "code",
   "execution_count": 42,
   "id": "b076e13a",
   "metadata": {},
   "outputs": [
    {
     "name": "stdout",
     "output_type": "stream",
     "text": [
      "24/24 [==============================] - 0s 3ms/step\n"
     ]
    },
    {
     "data": {
      "text/plain": [
       "{'accuracy': 53.674540682414694,\n",
       " 'precision': 0.5293679466160293,\n",
       " 'recall': 0.536745406824147,\n",
       " 'f1': 0.5272629171931134}"
      ]
     },
     "execution_count": 42,
     "metadata": {},
     "output_type": "execute_result"
    }
   ],
   "source": [
    "fifth_model_pred_prob = fifth_model.predict(val_sentence)\n",
    "fifth_model_pred = tf.squeeze(tf.round(fifth_model_pred_prob))\n",
    "\n",
    "fifth_model_result = performance_metrics(val_label, fifth_model_pred)\n",
    "fifth_model_result"
   ]
  },
  {
   "cell_type": "code",
   "execution_count": 43,
   "id": "4b601c96",
   "metadata": {},
   "outputs": [
    {
     "name": "stdout",
     "output_type": "stream",
     "text": [
      "Baseline accuracy: 79.27, New accuracy: 53.67, Difference: -25.590551181102363\n",
      "Baseline precision: 0.81, New precision: 0.53, Difference: -0.281771053805288\n",
      "Baseline recall: 0.79, New recall: 0.54, Difference: -0.2559055118110236\n",
      "Baseline f1: 0.79, New f1: 0.53, Difference: -0.25895605861184157\n"
     ]
    }
   ],
   "source": [
    "compare_baseline_with_new_result(baseline_result, fifth_model_result)"
   ]
  },
  {
   "cell_type": "markdown",
   "id": "fef67620",
   "metadata": {},
   "source": [
    "Model 6 - One dimensional cnn"
   ]
  },
  {
   "cell_type": "code",
   "execution_count": 44,
   "id": "13433287",
   "metadata": {},
   "outputs": [
    {
     "data": {
      "text/plain": [
       "(TensorShape([1, 15, 128]), TensorShape([1, 11, 32]), TensorShape([1, 32]))"
      ]
     },
     "execution_count": 44,
     "metadata": {},
     "output_type": "execute_result"
    }
   ],
   "source": [
    "### Try simple cnn one dimension\n",
    "\n",
    "embedding_cnn = embedding(text_vectorizer([\"this is a test sentence\"]))\n",
    "\n",
    "cnn_1d = layers.Conv1D(filters = 32, kernel_size = 5, activation = \"relu\")\n",
    "cnn_1d_output = cnn_1d(embedding_cnn)\n",
    "\n",
    "max_pool = layers.GlobalMaxPool1D()\n",
    "max_pool_output = max_pool(cnn_1d_output)\n",
    "\n",
    "### View the shape of input/ output cnn layer and output of max pool layer \n",
    "embedding_cnn.shape, cnn_1d_output.shape, max_pool_output.shape"
   ]
  },
  {
   "cell_type": "code",
   "execution_count": 45,
   "id": "fec653ff",
   "metadata": {},
   "outputs": [
    {
     "data": {
      "text/plain": [
       "(<tf.Tensor: shape=(1, 15, 128), dtype=float32, numpy=\n",
       " array([[[-0.0540083 ,  0.02229715,  0.02104606, ..., -0.05679169,\n",
       "          -0.02527618,  0.05310329],\n",
       "         [-0.01850839,  0.02191985,  0.02307109, ...,  0.02423151,\n",
       "           0.00763304, -0.05331698],\n",
       "         [-0.00944476,  0.02590696,  0.01761327, ...,  0.0546663 ,\n",
       "          -0.00844865,  0.03459654],\n",
       "         ...,\n",
       "         [ 0.02624034, -0.03572853,  0.02271514, ...,  0.0178381 ,\n",
       "          -0.04205781,  0.03851673],\n",
       "         [ 0.02624034, -0.03572853,  0.02271514, ...,  0.0178381 ,\n",
       "          -0.04205781,  0.03851673],\n",
       "         [ 0.02624034, -0.03572853,  0.02271514, ...,  0.0178381 ,\n",
       "          -0.04205781,  0.03851673]]], dtype=float32)>,\n",
       " <tf.Tensor: shape=(1, 11, 32), dtype=float32, numpy=\n",
       " array([[[0.        , 0.        , 0.        , 0.09867724, 0.        ,\n",
       "          0.00594528, 0.03712146, 0.        , 0.07770605, 0.01003451,\n",
       "          0.10451035, 0.08172578, 0.        , 0.06763583, 0.        ,\n",
       "          0.02084991, 0.10002384, 0.        , 0.        , 0.        ,\n",
       "          0.02667147, 0.05491917, 0.02702214, 0.        , 0.01121795,\n",
       "          0.        , 0.02070886, 0.10171348, 0.        , 0.        ,\n",
       "          0.        , 0.        ],\n",
       "         [0.154968  , 0.01058733, 0.00821722, 0.        , 0.09682614,\n",
       "          0.        , 0.07321089, 0.06335576, 0.01023466, 0.        ,\n",
       "          0.        , 0.15859385, 0.02128664, 0.        , 0.00574408,\n",
       "          0.11339475, 0.        , 0.        , 0.        , 0.08120024,\n",
       "          0.        , 0.03070854, 0.        , 0.        , 0.03630441,\n",
       "          0.        , 0.06904372, 0.06423301, 0.        , 0.02746022,\n",
       "          0.04127325, 0.01612672],\n",
       "         [0.        , 0.        , 0.        , 0.        , 0.        ,\n",
       "          0.        , 0.02157213, 0.05729868, 0.        , 0.        ,\n",
       "          0.06283184, 0.04532684, 0.02288492, 0.        , 0.        ,\n",
       "          0.09455161, 0.00685438, 0.        , 0.02819698, 0.        ,\n",
       "          0.02614962, 0.02250043, 0.        , 0.04349002, 0.        ,\n",
       "          0.        , 0.07008899, 0.04043921, 0.        , 0.        ,\n",
       "          0.        , 0.0475845 ],\n",
       "         [0.        , 0.        , 0.0092894 , 0.        , 0.02310785,\n",
       "          0.02187842, 0.01545652, 0.02516459, 0.        , 0.        ,\n",
       "          0.        , 0.06615667, 0.05580638, 0.00711741, 0.        ,\n",
       "          0.06989691, 0.        , 0.        , 0.04892278, 0.        ,\n",
       "          0.        , 0.04464149, 0.        , 0.        , 0.        ,\n",
       "          0.04263557, 0.        , 0.03831395, 0.        , 0.        ,\n",
       "          0.        , 0.03615882],\n",
       "         [0.        , 0.03648255, 0.        , 0.        , 0.        ,\n",
       "          0.        , 0.05055622, 0.00527448, 0.        , 0.        ,\n",
       "          0.        , 0.08978487, 0.        , 0.        , 0.        ,\n",
       "          0.0227048 , 0.        , 0.        , 0.05189878, 0.08665035,\n",
       "          0.00822634, 0.02865652, 0.        , 0.00960498, 0.01926778,\n",
       "          0.        , 0.04124056, 0.01444796, 0.        , 0.02711274,\n",
       "          0.03360082, 0.        ],\n",
       "         [0.        , 0.01180378, 0.00205237, 0.        , 0.01467853,\n",
       "          0.        , 0.03606332, 0.0030612 , 0.        , 0.        ,\n",
       "          0.00625977, 0.07787679, 0.        , 0.        , 0.        ,\n",
       "          0.02147403, 0.        , 0.        , 0.0834837 , 0.05964445,\n",
       "          0.00179843, 0.05896432, 0.        , 0.01385439, 0.02191224,\n",
       "          0.00995786, 0.01627993, 0.        , 0.        , 0.03719805,\n",
       "          0.03816865, 0.        ],\n",
       "         [0.        , 0.01180378, 0.00205237, 0.        , 0.01467853,\n",
       "          0.        , 0.03606332, 0.0030612 , 0.        , 0.        ,\n",
       "          0.00625977, 0.07787679, 0.        , 0.        , 0.        ,\n",
       "          0.02147403, 0.        , 0.        , 0.0834837 , 0.05964445,\n",
       "          0.00179843, 0.05896432, 0.        , 0.01385439, 0.02191224,\n",
       "          0.00995786, 0.01627993, 0.        , 0.        , 0.03719805,\n",
       "          0.03816865, 0.        ],\n",
       "         [0.        , 0.01180378, 0.00205237, 0.        , 0.01467853,\n",
       "          0.        , 0.03606332, 0.0030612 , 0.        , 0.        ,\n",
       "          0.00625977, 0.07787679, 0.        , 0.        , 0.        ,\n",
       "          0.02147403, 0.        , 0.        , 0.0834837 , 0.05964445,\n",
       "          0.00179843, 0.05896432, 0.        , 0.01385439, 0.02191224,\n",
       "          0.00995786, 0.01627993, 0.        , 0.        , 0.03719805,\n",
       "          0.03816865, 0.        ],\n",
       "         [0.        , 0.01180378, 0.00205237, 0.        , 0.01467853,\n",
       "          0.        , 0.03606332, 0.0030612 , 0.        , 0.        ,\n",
       "          0.00625977, 0.07787679, 0.        , 0.        , 0.        ,\n",
       "          0.02147403, 0.        , 0.        , 0.0834837 , 0.05964445,\n",
       "          0.00179843, 0.05896432, 0.        , 0.01385439, 0.02191224,\n",
       "          0.00995786, 0.01627993, 0.        , 0.        , 0.03719805,\n",
       "          0.03816865, 0.        ],\n",
       "         [0.        , 0.01180378, 0.00205237, 0.        , 0.01467853,\n",
       "          0.        , 0.03606332, 0.0030612 , 0.        , 0.        ,\n",
       "          0.00625977, 0.07787679, 0.        , 0.        , 0.        ,\n",
       "          0.02147403, 0.        , 0.        , 0.0834837 , 0.05964445,\n",
       "          0.00179843, 0.05896432, 0.        , 0.01385439, 0.02191224,\n",
       "          0.00995786, 0.01627993, 0.        , 0.        , 0.03719805,\n",
       "          0.03816865, 0.        ],\n",
       "         [0.        , 0.01180378, 0.00205237, 0.        , 0.01467853,\n",
       "          0.        , 0.03606332, 0.0030612 , 0.        , 0.        ,\n",
       "          0.00625977, 0.07787679, 0.        , 0.        , 0.        ,\n",
       "          0.02147403, 0.        , 0.        , 0.0834837 , 0.05964445,\n",
       "          0.00179843, 0.05896432, 0.        , 0.01385439, 0.02191224,\n",
       "          0.00995786, 0.01627993, 0.        , 0.        , 0.03719805,\n",
       "          0.03816865, 0.        ]]], dtype=float32)>,\n",
       " <tf.Tensor: shape=(1, 32), dtype=float32, numpy=\n",
       " array([[0.154968  , 0.03648255, 0.0092894 , 0.09867724, 0.09682614,\n",
       "         0.02187842, 0.07321089, 0.06335576, 0.07770605, 0.01003451,\n",
       "         0.10451035, 0.15859385, 0.05580638, 0.06763583, 0.00574408,\n",
       "         0.11339475, 0.10002384, 0.        , 0.0834837 , 0.08665035,\n",
       "         0.02667147, 0.05896432, 0.02702214, 0.04349002, 0.03630441,\n",
       "         0.04263557, 0.07008899, 0.10171348, 0.        , 0.03719805,\n",
       "         0.04127325, 0.0475845 ]], dtype=float32)>)"
      ]
     },
     "execution_count": 45,
     "metadata": {},
     "output_type": "execute_result"
    }
   ],
   "source": [
    "# Output of each layer\n",
    "\n",
    "embedding_cnn[:1], cnn_1d_output[:1], max_pool_output[:1]"
   ]
  },
  {
   "cell_type": "code",
   "execution_count": 46,
   "id": "d2d69a54",
   "metadata": {},
   "outputs": [
    {
     "name": "stdout",
     "output_type": "stream",
     "text": [
      "Model: \"sixth_model_cnn_1d\"\n",
      "_________________________________________________________________\n",
      " Layer (type)                Output Shape              Param #   \n",
      "=================================================================\n",
      " input_5 (InputLayer)        [(None, 1)]               0         \n",
      "                                                                 \n",
      " text_vectorization_1 (Text  (None, 15)                0         \n",
      " Vectorization)                                                  \n",
      "                                                                 \n",
      " sixth_embedding (Embedding  (None, 15, 128)           1280000   \n",
      " )                                                               \n",
      "                                                                 \n",
      " conv1d_1 (Conv1D)           (None, 11, 32)            20512     \n",
      "                                                                 \n",
      " global_max_pooling1d_1 (Gl  (None, 32)                0         \n",
      " obalMaxPooling1D)                                               \n",
      "                                                                 \n",
      " dense_4 (Dense)             (None, 1)                 33        \n",
      "                                                                 \n",
      "=================================================================\n",
      "Total params: 1300545 (4.96 MB)\n",
      "Trainable params: 1300545 (4.96 MB)\n",
      "Non-trainable params: 0 (0.00 Byte)\n",
      "_________________________________________________________________\n"
     ]
    }
   ],
   "source": [
    "sixth_model_embedding = layers.Embedding(input_dim = max_vocab_length, output_dim = 128,\n",
    "    embeddings_initializer = \"uniform\", input_length = max_length, name = \"sixth_embedding\")\n",
    "\n",
    "input_layer = layers.Input(shape = (1,), dtype = \"string\")\n",
    "\n",
    "x = text_vectorizer(input_layer)\n",
    "x = sixth_model_embedding(x)\n",
    "x = layers.Conv1D(filters = 32, kernel_size = 5, activation = \"relu\")(x)\n",
    "x = layers.GlobalMaxPool1D()(x)\n",
    "\n",
    "output_layer = layers.Dense(1, activation = \"sigmoid\")(x)\n",
    "\n",
    "sixth_model = tf.keras.Model(input_layer, output_layer, name = \"sixth_model_cnn_1d\")\n",
    "\n",
    "sixth_model.compile(loss = \"binary_crossentropy\", \n",
    "    optimizer = tf.keras.optimizers.Adam(), metrics = [\"accuracy\"])\n",
    "\n",
    "sixth_model.summary()"
   ]
  },
  {
   "cell_type": "code",
   "execution_count": 47,
   "id": "c23ee67b",
   "metadata": {},
   "outputs": [
    {
     "name": "stdout",
     "output_type": "stream",
     "text": [
      "Saving TensorBoard log files to: model_log/cnn_1d/20230924-195543\n",
      "Epoch 1/5\n",
      "215/215 [==============================] - 5s 18ms/step - loss: 0.5608 - accuracy: 0.7164 - val_loss: 0.4860 - val_accuracy: 0.7808\n",
      "Epoch 2/5\n",
      "215/215 [==============================] - 5s 23ms/step - loss: 0.3400 - accuracy: 0.8597 - val_loss: 0.4812 - val_accuracy: 0.7717\n",
      "Epoch 3/5\n",
      "215/215 [==============================] - 5s 24ms/step - loss: 0.2110 - accuracy: 0.9222 - val_loss: 0.5384 - val_accuracy: 0.7677\n",
      "Epoch 4/5\n",
      "215/215 [==============================] - 5s 24ms/step - loss: 0.1353 - accuracy: 0.9572 - val_loss: 0.6112 - val_accuracy: 0.7730\n",
      "Epoch 5/5\n",
      "215/215 [==============================] - 5s 24ms/step - loss: 0.0982 - accuracy: 0.9693 - val_loss: 0.6428 - val_accuracy: 0.7703\n"
     ]
    }
   ],
   "source": [
    "sixth_model_history = sixth_model.fit(train_sentence, train_label,\n",
    "    epochs = 5, validation_data = (val_sentence, val_label),\n",
    "    callbacks = [create_tensorboard_callback(saved_dir_loc, \"cnn_1d\")])"
   ]
  },
  {
   "cell_type": "code",
   "execution_count": 48,
   "id": "13be68ec",
   "metadata": {},
   "outputs": [
    {
     "name": "stdout",
     "output_type": "stream",
     "text": [
      "24/24 [==============================] - 0s 2ms/step\n"
     ]
    },
    {
     "data": {
      "text/plain": [
       "{'accuracy': 77.03412073490814,\n",
       " 'precision': 0.7706558492269004,\n",
       " 'recall': 0.7703412073490814,\n",
       " 'f1': 0.7690268437226717}"
      ]
     },
     "execution_count": 48,
     "metadata": {},
     "output_type": "execute_result"
    }
   ],
   "source": [
    "sixth_model_pred_prob = sixth_model.predict(val_sentence)\n",
    "sixth_model_pred = tf.squeeze(tf.round(sixth_model_pred_prob))\n",
    "\n",
    "sixth_model_result = performance_metrics(val_label, sixth_model_pred)\n",
    "sixth_model_result"
   ]
  },
  {
   "cell_type": "code",
   "execution_count": 49,
   "id": "22dfc792",
   "metadata": {},
   "outputs": [
    {
     "name": "stdout",
     "output_type": "stream",
     "text": [
      "Baseline accuracy: 79.27, New accuracy: 77.03, Difference: -2.230971128608914\n",
      "Baseline precision: 0.81, New precision: 0.77, Difference: -0.04048315119441681\n",
      "Baseline recall: 0.79, New recall: 0.77, Difference: -0.022309711286089162\n",
      "Baseline f1: 0.79, New f1: 0.77, Difference: -0.017192132082283207\n"
     ]
    }
   ],
   "source": [
    "compare_baseline_with_new_result(baseline_result, sixth_model_result)"
   ]
  },
  {
   "cell_type": "markdown",
   "id": "b9687a4e",
   "metadata": {},
   "source": [
    "Model 7 - Pretrained sentence encoder <br><br>\n",
    "Difference between the embedding layer vs universal sentence encoder is rather than create a word-level embedding, the universal sentence encoder creates <b>whole sentence-level embedding</b>. Custom embedding layer outputs 128 dimensional vector for each word while universal sentence encoder outputs 512 dimensional vector for each sentence."
   ]
  },
  {
   "cell_type": "code",
   "execution_count": 50,
   "id": "af8968ab",
   "metadata": {},
   "outputs": [
    {
     "name": "stdout",
     "output_type": "stream",
     "text": [
      "tf.Tensor(\n",
      "[-0.01157023  0.02485909  0.02878049 -0.012715    0.0397154   0.08827759\n",
      "  0.02680983  0.05589837 -0.01068731 -0.00597293  0.00639322 -0.01819516\n",
      "  0.00030816  0.09105889  0.05874643 -0.03180629  0.01512472 -0.05162928\n",
      "  0.00991366 -0.06865345 -0.04209306  0.02678979  0.03011009  0.00321065\n",
      " -0.00337969 -0.04787359  0.0226672  -0.00985925 -0.04063614 -0.01292091\n",
      " -0.04666385  0.05630299 -0.03949255  0.00517684  0.02495827 -0.0701444\n",
      "  0.0287151   0.04947682 -0.00633976 -0.08960192  0.02807119 -0.00808363\n",
      " -0.01360601  0.05998649 -0.10361788 -0.05195374  0.00232955 -0.0233253\n",
      " -0.03758107  0.0332773 ], shape=(50,), dtype=float32)\n"
     ]
    }
   ],
   "source": [
    "### Example of pretrained embedding with universal sentence encoder\n",
    "\n",
    "embed = hub.load(\"https://tfhub.dev/google/universal-sentence-encoder/4\")\n",
    "embed_sample = embed([sample_sentence])\n",
    "\n",
    "### View first 50 \n",
    "print(embed_sample[0][:50])"
   ]
  },
  {
   "cell_type": "code",
   "execution_count": 51,
   "id": "e2eb69a6",
   "metadata": {},
   "outputs": [
    {
     "data": {
      "text/plain": [
       "TensorShape([512])"
      ]
     },
     "execution_count": 51,
     "metadata": {},
     "output_type": "execute_result"
    }
   ],
   "source": [
    "### What is its shape?\n",
    "\n",
    "embed_sample[0].shape"
   ]
  },
  {
   "cell_type": "code",
   "execution_count": 52,
   "id": "a8c56eda",
   "metadata": {},
   "outputs": [
    {
     "name": "stdout",
     "output_type": "stream",
     "text": [
      "Model: \"seventh_model_use\"\n",
      "_________________________________________________________________\n",
      " Layer (type)                Output Shape              Param #   \n",
      "=================================================================\n",
      " USE (KerasLayer)            (None, 512)               256797824 \n",
      "                                                                 \n",
      " dense_5 (Dense)             (None, 64)                32832     \n",
      "                                                                 \n",
      " dense_6 (Dense)             (None, 1)                 65        \n",
      "                                                                 \n",
      "=================================================================\n",
      "Total params: 256830721 (979.73 MB)\n",
      "Trainable params: 32897 (128.50 KB)\n",
      "Non-trainable params: 256797824 (979.61 MB)\n",
      "_________________________________________________________________\n"
     ]
    }
   ],
   "source": [
    "sentence_encoder_layer = hub.KerasLayer(\"https://tfhub.dev/google/universal-sentence-encoder/4\",\n",
    "    input_shape = [], dtype = tf.string, trainable = False, name = \"USE\")\n",
    "\n",
    "seventh_model = tf.keras.Sequential([\n",
    "  sentence_encoder_layer,\n",
    "  layers.Dense(64, activation = \"relu\"),\n",
    "  layers.Dense(1, activation = \"sigmoid\")\n",
    "], name = \"seventh_model_use\")\n",
    "\n",
    "seventh_model.compile(loss = \"binary_crossentropy\",\n",
    "    optimizer = tf.keras.optimizers.Adam(), metrics = [\"accuracy\"])\n",
    "\n",
    "seventh_model.summary()"
   ]
  },
  {
   "cell_type": "code",
   "execution_count": 53,
   "id": "b7d12cbe",
   "metadata": {},
   "outputs": [
    {
     "name": "stdout",
     "output_type": "stream",
     "text": [
      "Saving TensorBoard log files to: model_log/tf_hub_sentence_encoder/20230924-195622\n",
      "Epoch 1/5\n",
      "215/215 [==============================] - 6s 18ms/step - loss: 0.5088 - accuracy: 0.7812 - val_loss: 0.4544 - val_accuracy: 0.7966\n",
      "Epoch 2/5\n",
      "215/215 [==============================] - 4s 17ms/step - loss: 0.4150 - accuracy: 0.8152 - val_loss: 0.4408 - val_accuracy: 0.8071\n",
      "Epoch 3/5\n",
      "215/215 [==============================] - 4s 17ms/step - loss: 0.4040 - accuracy: 0.8208 - val_loss: 0.4390 - val_accuracy: 0.8110\n",
      "Epoch 4/5\n",
      "215/215 [==============================] - 4s 17ms/step - loss: 0.3955 - accuracy: 0.8256 - val_loss: 0.4311 - val_accuracy: 0.8176\n",
      "Epoch 5/5\n",
      "215/215 [==============================] - 4s 18ms/step - loss: 0.3885 - accuracy: 0.8298 - val_loss: 0.4331 - val_accuracy: 0.8110\n"
     ]
    }
   ],
   "source": [
    "seventh_model_history = seventh_model.fit(train_sentence, train_label,\n",
    "    epochs = 5, validation_data = (val_sentence, val_label), \n",
    "    callbacks = [create_tensorboard_callback(saved_dir_loc, \"tf_hub_sentence_encoder\")])"
   ]
  },
  {
   "cell_type": "code",
   "execution_count": 54,
   "id": "9fb07507",
   "metadata": {},
   "outputs": [
    {
     "name": "stdout",
     "output_type": "stream",
     "text": [
      "24/24 [==============================] - 1s 8ms/step\n"
     ]
    },
    {
     "data": {
      "text/plain": [
       "{'accuracy': 81.10236220472441,\n",
       " 'precision': 0.811513075854206,\n",
       " 'recall': 0.8110236220472441,\n",
       " 'f1': 0.8101537744292121}"
      ]
     },
     "execution_count": 54,
     "metadata": {},
     "output_type": "execute_result"
    }
   ],
   "source": [
    "seventh_model_pred_prob = seventh_model.predict(val_sentence)\n",
    "seventh_model_pred = tf.squeeze(tf.round(seventh_model_pred_prob))\n",
    "\n",
    "seventh_model_result = performance_metrics(val_label, seventh_model_pred)\n",
    "seventh_model_result"
   ]
  },
  {
   "cell_type": "code",
   "execution_count": 55,
   "id": "fc00c5a0",
   "metadata": {},
   "outputs": [
    {
     "name": "stdout",
     "output_type": "stream",
     "text": [
      "Baseline accuracy: 79.27, New accuracy: 81.10, Difference: 1.8372703412073577\n",
      "Baseline precision: 0.81, New precision: 0.81, Difference: 0.0003740754328886986\n",
      "Baseline recall: 0.79, New recall: 0.81, Difference: 0.018372703412073532\n",
      "Baseline f1: 0.79, New f1: 0.81, Difference: 0.02393479862425718\n"
     ]
    }
   ],
   "source": [
    "compare_baseline_with_new_result(baseline_result, seventh_model_result)"
   ]
  },
  {
   "cell_type": "markdown",
   "id": "01d991f1",
   "metadata": {},
   "source": [
    "Model 8 - Pretrained sentence encoder with 10% data <br><br>\n",
    "Pretrained embeddings within the USE has the great results with just small amount of data, let`s try 10% of dataset. "
   ]
  },
  {
   "cell_type": "code",
   "execution_count": 56,
   "id": "4032f212",
   "metadata": {},
   "outputs": [],
   "source": [
    "train_sentence_90_percent, train_sentence_10_percent, train_label_90_percent, train_label_10_percent \\\n",
    "    = train_test_split(np.array(train_sentence), train_label, test_size = 0.1, random_state = 42)"
   ]
  },
  {
   "cell_type": "code",
   "execution_count": 57,
   "id": "97e8c6bc",
   "metadata": {},
   "outputs": [
    {
     "name": "stdout",
     "output_type": "stream",
     "text": [
      "Total training: 6851\n",
      "Length of 10% training: 686\n",
      "Total label '0': 415\n",
      "Total label '1': 271\n"
     ]
    }
   ],
   "source": [
    "# Check length of 10 percent from training\n",
    "\n",
    "print(f\"Total training: {len(train_sentence)}\")\n",
    "print(f\"Length of 10% training: {len(train_sentence_10_percent)}\")\n",
    "\n",
    "label_count = pd.Series(train_label_10_percent).value_counts()\n",
    "\n",
    "print(f\"Total label '0': {label_count[0]}\")\n",
    "print(f\"Total label '1': {label_count[1]}\")"
   ]
  },
  {
   "cell_type": "code",
   "execution_count": 58,
   "id": "40a78236",
   "metadata": {},
   "outputs": [
    {
     "name": "stdout",
     "output_type": "stream",
     "text": [
      "Model: \"eighth_model_use_10_percentage\"\n",
      "_________________________________________________________________\n",
      " Layer (type)                Output Shape              Param #   \n",
      "=================================================================\n",
      " USE (KerasLayer)            (None, 512)               256797824 \n",
      "                                                                 \n",
      " dense_5 (Dense)             (None, 64)                32832     \n",
      "                                                                 \n",
      " dense_6 (Dense)             (None, 1)                 65        \n",
      "                                                                 \n",
      "=================================================================\n",
      "Total params: 256830721 (979.73 MB)\n",
      "Trainable params: 32897 (128.50 KB)\n",
      "Non-trainable params: 256797824 (979.61 MB)\n",
      "_________________________________________________________________\n"
     ]
    }
   ],
   "source": [
    "### Simply clone the seventh model as eighth model\n",
    "\n",
    "eighth_model = tf.keras.models.clone_model(seventh_model)\n",
    "eighth_model._name = \"eighth_model_use_10_percentage\"\n",
    "\n",
    "eighth_model.compile(loss = \"binary_crossentropy\", optimizer = tf.keras.optimizers.Adam(),\n",
    "    metrics = [\"accuracy\"])\n",
    "\n",
    "eighth_model.summary()"
   ]
  },
  {
   "cell_type": "code",
   "execution_count": 59,
   "id": "30e821bf",
   "metadata": {},
   "outputs": [
    {
     "name": "stdout",
     "output_type": "stream",
     "text": [
      "Saving TensorBoard log files to: model_log/10_percent_tf_hub_sentence_encoder/20230924-195650\n",
      "Epoch 1/5\n",
      "22/22 [==============================] - 3s 40ms/step - loss: 0.6707 - accuracy: 0.6851 - val_loss: 0.6509 - val_accuracy: 0.7218\n",
      "Epoch 2/5\n",
      "22/22 [==============================] - 1s 31ms/step - loss: 0.6008 - accuracy: 0.8090 - val_loss: 0.5974 - val_accuracy: 0.7415\n",
      "Epoch 3/5\n",
      "22/22 [==============================] - 1s 34ms/step - loss: 0.5258 - accuracy: 0.8294 - val_loss: 0.5433 - val_accuracy: 0.7664\n",
      "Epoch 4/5\n",
      "22/22 [==============================] - 1s 35ms/step - loss: 0.4616 - accuracy: 0.8367 - val_loss: 0.5114 - val_accuracy: 0.7625\n",
      "Epoch 5/5\n",
      "22/22 [==============================] - 1s 34ms/step - loss: 0.4151 - accuracy: 0.8382 - val_loss: 0.4932 - val_accuracy: 0.7638\n"
     ]
    }
   ],
   "source": [
    "eighth_model_history = eighth_model.fit(x = train_sentence_10_percent, y = train_label_10_percent,\n",
    "    epochs = 5, validation_data = (val_sentence, val_label),\n",
    "    callbacks = [create_tensorboard_callback(saved_dir_loc, \"10_percent_tf_hub_sentence_encoder\")])"
   ]
  },
  {
   "cell_type": "code",
   "execution_count": 60,
   "id": "a92c5daa",
   "metadata": {},
   "outputs": [
    {
     "name": "stdout",
     "output_type": "stream",
     "text": [
      "24/24 [==============================] - 1s 9ms/step\n"
     ]
    },
    {
     "data": {
      "text/plain": [
       "{'accuracy': 76.37795275590551,\n",
       " 'precision': 0.7684672893281957,\n",
       " 'recall': 0.7637795275590551,\n",
       " 'f1': 0.7601256218811575}"
      ]
     },
     "execution_count": 60,
     "metadata": {},
     "output_type": "execute_result"
    }
   ],
   "source": [
    "eighth_model_pred_prob = eighth_model.predict(val_sentence)\n",
    "eighth_model_pred = tf.squeeze(tf.round(eighth_model_pred_prob))\n",
    "\n",
    "eighth_model_result = performance_metrics(val_label, eighth_model_pred)\n",
    "eighth_model_result"
   ]
  },
  {
   "cell_type": "code",
   "execution_count": 61,
   "id": "3ba6fe84",
   "metadata": {},
   "outputs": [
    {
     "name": "stdout",
     "output_type": "stream",
     "text": [
      "Baseline accuracy: 79.27, New accuracy: 76.38, Difference: -2.887139107611546\n",
      "Baseline precision: 0.81, New precision: 0.77, Difference: -0.04267171109312151\n",
      "Baseline recall: 0.79, New recall: 0.76, Difference: -0.02887139107611547\n",
      "Baseline f1: 0.79, New f1: 0.76, Difference: -0.026093353923797413\n"
     ]
    }
   ],
   "source": [
    "compare_baseline_with_new_result(baseline_result, eighth_model_result)"
   ]
  },
  {
   "cell_type": "markdown",
   "id": "1ccf4dce",
   "metadata": {},
   "source": [
    "### 5. Comparing performance of each models"
   ]
  },
  {
   "cell_type": "code",
   "execution_count": 62,
   "id": "1ddb84a0",
   "metadata": {},
   "outputs": [
    {
     "data": {
      "text/html": [
       "<div>\n",
       "<style scoped>\n",
       "    .dataframe tbody tr th:only-of-type {\n",
       "        vertical-align: middle;\n",
       "    }\n",
       "\n",
       "    .dataframe tbody tr th {\n",
       "        vertical-align: top;\n",
       "    }\n",
       "\n",
       "    .dataframe thead th {\n",
       "        text-align: right;\n",
       "    }\n",
       "</style>\n",
       "<table border=\"1\" class=\"dataframe\">\n",
       "  <thead>\n",
       "    <tr style=\"text-align: right;\">\n",
       "      <th></th>\n",
       "      <th>accuracy</th>\n",
       "      <th>precision</th>\n",
       "      <th>recall</th>\n",
       "      <th>f1</th>\n",
       "    </tr>\n",
       "  </thead>\n",
       "  <tbody>\n",
       "    <tr>\n",
       "      <th>baseline</th>\n",
       "      <td>79.265092</td>\n",
       "      <td>0.811139</td>\n",
       "      <td>0.792651</td>\n",
       "      <td>0.786219</td>\n",
       "    </tr>\n",
       "    <tr>\n",
       "      <th>simple_dense</th>\n",
       "      <td>78.215223</td>\n",
       "      <td>0.786433</td>\n",
       "      <td>0.782152</td>\n",
       "      <td>0.779236</td>\n",
       "    </tr>\n",
       "    <tr>\n",
       "      <th>lstm</th>\n",
       "      <td>76.115486</td>\n",
       "      <td>0.760832</td>\n",
       "      <td>0.761155</td>\n",
       "      <td>0.760909</td>\n",
       "    </tr>\n",
       "    <tr>\n",
       "      <th>bidirectional</th>\n",
       "      <td>75.065617</td>\n",
       "      <td>0.750860</td>\n",
       "      <td>0.750656</td>\n",
       "      <td>0.749051</td>\n",
       "    </tr>\n",
       "    <tr>\n",
       "      <th>gru</th>\n",
       "      <td>53.674541</td>\n",
       "      <td>0.529368</td>\n",
       "      <td>0.536745</td>\n",
       "      <td>0.527263</td>\n",
       "    </tr>\n",
       "    <tr>\n",
       "      <th>cnn_1d</th>\n",
       "      <td>77.034121</td>\n",
       "      <td>0.770656</td>\n",
       "      <td>0.770341</td>\n",
       "      <td>0.769027</td>\n",
       "    </tr>\n",
       "    <tr>\n",
       "      <th>tf_hub_sentence_encoder</th>\n",
       "      <td>81.102362</td>\n",
       "      <td>0.811513</td>\n",
       "      <td>0.811024</td>\n",
       "      <td>0.810154</td>\n",
       "    </tr>\n",
       "    <tr>\n",
       "      <th>tf_hub_10_percent_data</th>\n",
       "      <td>76.377953</td>\n",
       "      <td>0.768467</td>\n",
       "      <td>0.763780</td>\n",
       "      <td>0.760126</td>\n",
       "    </tr>\n",
       "  </tbody>\n",
       "</table>\n",
       "</div>"
      ],
      "text/plain": [
       "                          accuracy  precision    recall        f1\n",
       "baseline                 79.265092   0.811139  0.792651  0.786219\n",
       "simple_dense             78.215223   0.786433  0.782152  0.779236\n",
       "lstm                     76.115486   0.760832  0.761155  0.760909\n",
       "bidirectional            75.065617   0.750860  0.750656  0.749051\n",
       "gru                      53.674541   0.529368  0.536745  0.527263\n",
       "cnn_1d                   77.034121   0.770656  0.770341  0.769027\n",
       "tf_hub_sentence_encoder  81.102362   0.811513  0.811024  0.810154\n",
       "tf_hub_10_percent_data   76.377953   0.768467  0.763780  0.760126"
      ]
     },
     "execution_count": 62,
     "metadata": {},
     "output_type": "execute_result"
    }
   ],
   "source": [
    "all_model_result = pd.DataFrame({ \"baseline\": baseline_result, \"simple_dense\": second_model_result,\n",
    "    \"lstm\": third_model_result, \"bidirectional\": forth_model_result,\n",
    "    \"gru\": fifth_model_result, \"cnn_1d\": sixth_model_result,\n",
    "    \"tf_hub_sentence_encoder\": seventh_model_result, \"tf_hub_10_percent_data\": eighth_model_result })\n",
    "all_model_result = all_model_result.transpose()\n",
    "\n",
    "all_model_result"
   ]
  },
  {
   "cell_type": "markdown",
   "id": "76f8abe2",
   "metadata": {},
   "source": [
    "Best performance is pretrained USE TensorFlow Hub model. With 10% of the training, still outperform the other models. "
   ]
  },
  {
   "cell_type": "code",
   "execution_count": 63,
   "id": "53ad2f68",
   "metadata": {
    "scrolled": true
   },
   "outputs": [
    {
     "data": {
      "image/png": "[encoded data removed]",
      "text/plain": [
       "<Figure size 1000x700 with 1 Axes>"
      ]
     },
     "metadata": {},
     "output_type": "display_data"
    }
   ],
   "source": [
    "all_model_result[\"accuracy\"] = all_model_result[\"accuracy\"]/ 100\n",
    "\n",
    "### Plotting and compare all of the model result in bar chart\n",
    "all_model_result.plot(kind = \"bar\", figsize = (10, 7)).legend(bbox_to_anchor = (1.0, 1.0));"
   ]
  },
  {
   "cell_type": "markdown",
   "id": "4e9f8126",
   "metadata": {},
   "source": [
    "F1 score is harmonic mean of precision and recall, good for overall evaluation. Based on below data, we can conclude that USE tensorflow hub model performing better than all of the other models."
   ]
  },
  {
   "cell_type": "code",
   "execution_count": 64,
   "id": "be72a130",
   "metadata": {},
   "outputs": [
    {
     "data": {
      "image/png": "[encoded data removed]",
      "text/plain": [
       "<Figure size 1000x700 with 1 Axes>"
      ]
     },
     "metadata": {},
     "output_type": "display_data"
    }
   ],
   "source": [
    "all_model_result.sort_values(\"f1\", ascending = False)[\"f1\"].plot(kind = \"bar\", figsize = (10, 7));"
   ]
  },
  {
   "cell_type": "markdown",
   "id": "4bfca160",
   "metadata": {},
   "source": [
    "### 6. Model ensembling/ stacking"
   ]
  },
  {
   "cell_type": "code",
   "execution_count": 65,
   "id": "2da12e0e",
   "metadata": {
    "scrolled": true
   },
   "outputs": [
    {
     "data": {
      "text/plain": [
       "<tf.Tensor: shape=(10,), dtype=float32, numpy=array([0., 1., 1., 0., 1., 1., 1., 1., 1., 0.], dtype=float32)>"
      ]
     },
     "execution_count": 65,
     "metadata": {},
     "output_type": "execute_result"
    }
   ],
   "source": [
    "### Find maxima along the second axis for base model\n",
    "baseline_pred_prob = np.max(first_model.predict_proba(val_sentence), axis = 1)\n",
    "\n",
    "### Combine all probability of selected models\n",
    "### Squeeze probability of LSTM and pretrained for combination\n",
    "combined_pred_prob = baseline_pred_prob + tf.squeeze(second_model_pred_prob, axis = 1) + tf.squeeze(seventh_model_pred_prob)\n",
    "\n",
    "### Average by 3 and round the value\n",
    "combined_pred = tf.round(combined_pred_prob/ 3)\n",
    "combined_pred[:10]"
   ]
  },
  {
   "cell_type": "code",
   "execution_count": 88,
   "id": "6066b49e",
   "metadata": {},
   "outputs": [
    {
     "name": "stderr",
     "output_type": "stream",
     "text": [
      "C:\\Users\\Chris\\AppData\\Local\\Temp\\ipykernel_13264\\2731320550.py:4: SettingWithCopyWarning: \n",
      "A value is trying to be set on a copy of a slice from a DataFrame\n",
      "\n",
      "See the caveats in the documentation: https://pandas.pydata.org/pandas-docs/stable/user_guide/indexing.html#returning-a-view-versus-a-copy\n",
      "  all_model_result.loc[\"ensemble_result\"][\"accuracy\"] = all_model_result.loc[\"ensemble_result\"][\"accuracy\"] / 100\n"
     ]
    },
    {
     "data": {
      "text/html": [
       "<div>\n",
       "<style scoped>\n",
       "    .dataframe tbody tr th:only-of-type {\n",
       "        vertical-align: middle;\n",
       "    }\n",
       "\n",
       "    .dataframe tbody tr th {\n",
       "        vertical-align: top;\n",
       "    }\n",
       "\n",
       "    .dataframe thead th {\n",
       "        text-align: right;\n",
       "    }\n",
       "</style>\n",
       "<table border=\"1\" class=\"dataframe\">\n",
       "  <thead>\n",
       "    <tr style=\"text-align: right;\">\n",
       "      <th></th>\n",
       "      <th>accuracy</th>\n",
       "      <th>precision</th>\n",
       "      <th>recall</th>\n",
       "      <th>f1</th>\n",
       "    </tr>\n",
       "  </thead>\n",
       "  <tbody>\n",
       "    <tr>\n",
       "      <th>baseline</th>\n",
       "      <td>0.792651</td>\n",
       "      <td>0.811139</td>\n",
       "      <td>0.792651</td>\n",
       "      <td>0.786219</td>\n",
       "    </tr>\n",
       "    <tr>\n",
       "      <th>simple_dense</th>\n",
       "      <td>0.782152</td>\n",
       "      <td>0.786433</td>\n",
       "      <td>0.782152</td>\n",
       "      <td>0.779236</td>\n",
       "    </tr>\n",
       "    <tr>\n",
       "      <th>lstm</th>\n",
       "      <td>0.761155</td>\n",
       "      <td>0.760832</td>\n",
       "      <td>0.761155</td>\n",
       "      <td>0.760909</td>\n",
       "    </tr>\n",
       "    <tr>\n",
       "      <th>bidirectional</th>\n",
       "      <td>0.750656</td>\n",
       "      <td>0.750860</td>\n",
       "      <td>0.750656</td>\n",
       "      <td>0.749051</td>\n",
       "    </tr>\n",
       "    <tr>\n",
       "      <th>gru</th>\n",
       "      <td>0.536745</td>\n",
       "      <td>0.529368</td>\n",
       "      <td>0.536745</td>\n",
       "      <td>0.527263</td>\n",
       "    </tr>\n",
       "    <tr>\n",
       "      <th>cnn_1d</th>\n",
       "      <td>0.770341</td>\n",
       "      <td>0.770656</td>\n",
       "      <td>0.770341</td>\n",
       "      <td>0.769027</td>\n",
       "    </tr>\n",
       "    <tr>\n",
       "      <th>tf_hub_sentence_encoder</th>\n",
       "      <td>0.811024</td>\n",
       "      <td>0.811513</td>\n",
       "      <td>0.811024</td>\n",
       "      <td>0.810154</td>\n",
       "    </tr>\n",
       "    <tr>\n",
       "      <th>tf_hub_10_percent_data</th>\n",
       "      <td>0.763780</td>\n",
       "      <td>0.768467</td>\n",
       "      <td>0.763780</td>\n",
       "      <td>0.760126</td>\n",
       "    </tr>\n",
       "    <tr>\n",
       "      <th>ensemble_result</th>\n",
       "      <td>80.183727</td>\n",
       "      <td>0.802413</td>\n",
       "      <td>0.801837</td>\n",
       "      <td>0.802013</td>\n",
       "    </tr>\n",
       "  </tbody>\n",
       "</table>\n",
       "</div>"
      ],
      "text/plain": [
       "                          accuracy  precision    recall        f1\n",
       "baseline                  0.792651   0.811139  0.792651  0.786219\n",
       "simple_dense              0.782152   0.786433  0.782152  0.779236\n",
       "lstm                      0.761155   0.760832  0.761155  0.760909\n",
       "bidirectional             0.750656   0.750860  0.750656  0.749051\n",
       "gru                       0.536745   0.529368  0.536745  0.527263\n",
       "cnn_1d                    0.770341   0.770656  0.770341  0.769027\n",
       "tf_hub_sentence_encoder   0.811024   0.811513  0.811024  0.810154\n",
       "tf_hub_10_percent_data    0.763780   0.768467  0.763780  0.760126\n",
       "ensemble_result          80.183727   0.802413  0.801837  0.802013"
      ]
     },
     "execution_count": 88,
     "metadata": {},
     "output_type": "execute_result"
    }
   ],
   "source": [
    "ensemble_result = performance_metrics(val_label, combined_pred)\n",
    "\n",
    "all_model_result.loc[\"ensemble_result\"] = ensemble_result\n",
    "all_model_result.loc[\"ensemble_result\"][\"accuracy\"] = all_model_result.loc[\"ensemble_result\"][\"accuracy\"] / 100\n",
    "all_model_result"
   ]
  },
  {
   "cell_type": "code",
   "execution_count": null,
   "id": "d684c345",
   "metadata": {},
   "outputs": [],
   "source": []
  }
 ],
 "metadata": {
  "kernelspec": {
   "display_name": "Python 3 (ipykernel)",
   "language": "python",
   "name": "python3"
  },
  "language_info": {
   "codemirror_mode": {
    "name": "ipython",
    "version": 3
   },
   "file_extension": ".py",
   "mimetype": "text/x-python",
   "name": "python",
   "nbconvert_exporter": "python",
   "pygments_lexer": "ipython3",
   "version": "3.9.18"
  }
 },
 "nbformat": 4,
 "nbformat_minor": 5
}
